{
 "cells": [
  {
   "cell_type": "markdown",
   "id": "61e06cf6",
   "metadata": {
    "papermill": {
     "duration": 0.033452,
     "end_time": "2024-06-06T13:27:16.109879",
     "exception": false,
     "start_time": "2024-06-06T13:27:16.076427",
     "status": "completed"
    },
    "tags": []
   },
   "source": [
    "# Import Libraries"
   ]
  },
  {
   "cell_type": "code",
   "execution_count": 2,
   "id": "fc0407bb",
   "metadata": {
    "execution": {
     "iopub.execute_input": "2024-06-06T13:27:16.179424Z",
     "iopub.status.busy": "2024-06-06T13:27:16.178877Z",
     "iopub.status.idle": "2024-06-06T13:27:17.791733Z",
     "shell.execute_reply": "2024-06-06T13:27:17.790140Z"
    },
    "papermill": {
     "duration": 1.65154,
     "end_time": "2024-06-06T13:27:17.795259",
     "exception": false,
     "start_time": "2024-06-06T13:27:16.143719",
     "status": "completed"
    },
    "tags": []
   },
   "outputs": [],
   "source": [
    "import pandas as pd\n",
    "import numpy as np\n",
    "import seaborn as sns\n",
    "import matplotlib.pyplot as plt\n",
    "from wordcloud import WordCloud\n",
    "from sklearn.preprocessing import LabelEncoder\n",
    "from sklearn.linear_model import LinearRegression\n",
    "from sklearn.model_selection import train_test_split\n",
    "\n",
    "# Ignore all warnings\n",
    "import warnings\n",
    "warnings.filterwarnings(\"ignore\")"
   ]
  },
  {
   "cell_type": "markdown",
   "id": "c937d6fc",
   "metadata": {
    "papermill": {
     "duration": 0.034563,
     "end_time": "2024-06-06T13:27:17.865474",
     "exception": false,
     "start_time": "2024-06-06T13:27:17.830911",
     "status": "completed"
    },
    "tags": []
   },
   "source": [
    "# Reading data\n"
   ]
  },
  {
   "cell_type": "code",
   "execution_count": 3,
   "id": "4e8a28bb",
   "metadata": {
    "execution": {
     "iopub.execute_input": "2024-06-06T13:27:18.037805Z",
     "iopub.status.busy": "2024-06-06T13:27:18.037294Z",
     "iopub.status.idle": "2024-06-06T13:27:18.237853Z",
     "shell.execute_reply": "2024-06-06T13:27:18.236470Z"
    },
    "papermill": {
     "duration": 0.241966,
     "end_time": "2024-06-06T13:27:18.241422",
     "exception": false,
     "start_time": "2024-06-06T13:27:17.999456",
     "status": "completed"
    },
    "tags": []
   },
   "outputs": [],
   "source": [
    "data = pd.read_csv(data = pd.read_csv(data = pd.read_csv('/Users/swapnilgadage/Documents/DataAnalytics/Achivment 6/netflix_titles.csv')\n",
    "data2 = data.copy()\n"
   ]
  },
  {
   "cell_type": "markdown",
   "id": "ea7b74a0",
   "metadata": {
    "papermill": {
     "duration": 0.035219,
     "end_time": "2024-06-06T13:27:18.466794",
     "exception": false,
     "start_time": "2024-06-06T13:27:18.431575",
     "status": "completed"
    },
    "tags": []
   },
   "source": [
    "# Cleaning up the data"
   ]
  },
  {
   "cell_type": "code",
   "execution_count": 5,
   "id": "beb8b803",
   "metadata": {
    "execution": {
     "iopub.execute_input": "2024-06-06T13:27:18.539868Z",
     "iopub.status.busy": "2024-06-06T13:27:18.539340Z",
     "iopub.status.idle": "2024-06-06T13:27:18.564989Z",
     "shell.execute_reply": "2024-06-06T13:27:18.563658Z"
    },
    "papermill": {
     "duration": 0.065932,
     "end_time": "2024-06-06T13:27:18.568018",
     "exception": false,
     "start_time": "2024-06-06T13:27:18.502086",
     "status": "completed"
    },
    "tags": []
   },
   "outputs": [
    {
     "data": {
      "text/plain": [
       "listed_in\n",
       "Dramas, International Movies                          362\n",
       "Documentaries                                         359\n",
       "Stand-Up Comedy                                       334\n",
       "Comedies, Dramas, International Movies                274\n",
       "Dramas, Independent Movies, International Movies      252\n",
       "                                                     ... \n",
       "Kids' TV, TV Action & Adventure, TV Dramas              1\n",
       "TV Comedies, TV Dramas, TV Horror                       1\n",
       "Children & Family Movies, Comedies, LGBTQ Movies        1\n",
       "Kids' TV, Spanish-Language TV Shows, Teen TV Shows      1\n",
       "Cult Movies, Dramas, Thrillers                          1\n",
       "Name: count, Length: 514, dtype: int64"
      ]
     },
     "execution_count": 5,
     "metadata": {},
     "output_type": "execute_result"
    }
   ],
   "source": [
    "data2['listed_in'].value_counts()"
   ]
  },
  {
   "cell_type": "code",
   "execution_count": 6,
   "id": "f2ca5ad4",
   "metadata": {
    "execution": {
     "iopub.execute_input": "2024-06-06T13:27:18.640458Z",
     "iopub.status.busy": "2024-06-06T13:27:18.639359Z",
     "iopub.status.idle": "2024-06-06T13:27:21.640818Z",
     "shell.execute_reply": "2024-06-06T13:27:21.639352Z"
    },
    "papermill": {
     "duration": 3.040955,
     "end_time": "2024-06-06T13:27:21.643697",
     "exception": false,
     "start_time": "2024-06-06T13:27:18.602742",
     "status": "completed"
    },
    "tags": []
   },
   "outputs": [],
   "source": [
    "#funtion to get listed_in column into different columns for each categories\n",
    "def func(str_val):\n",
    "    list_val = str_val.split(\",\")\n",
    "    output_dict = {}\n",
    "    for item in list_val:\n",
    "        output_dict[item] = 1\n",
    "    return output_dict\n",
    "    \n",
    "data_categories = data2['listed_in'].apply(lambda x: func(x)).apply(pd.Series).fillna(0)"
   ]
  },
  {
   "cell_type": "code",
   "execution_count": 7,
   "id": "bb20f402",
   "metadata": {
    "execution": {
     "iopub.execute_input": "2024-06-06T13:27:21.715332Z",
     "iopub.status.busy": "2024-06-06T13:27:21.714889Z",
     "iopub.status.idle": "2024-06-06T13:27:21.724754Z",
     "shell.execute_reply": "2024-06-06T13:27:21.723600Z"
    },
    "papermill": {
     "duration": 0.048812,
     "end_time": "2024-06-06T13:27:21.727377",
     "exception": false,
     "start_time": "2024-06-06T13:27:21.678565",
     "status": "completed"
    },
    "tags": []
   },
   "outputs": [],
   "source": [
    "#concatinating both the data side by side\n",
    "data2 = pd.concat([data, data_categories], axis=1)"
   ]
  },
  {
   "cell_type": "markdown",
   "id": "b9e7c57e",
   "metadata": {
    "papermill": {
     "duration": 0.047878,
     "end_time": "2024-06-06T13:27:33.133990",
     "exception": false,
     "start_time": "2024-06-06T13:27:33.086112",
     "status": "completed"
    },
    "tags": []
   },
   "source": [
    "# Cluster Analysis"
   ]
  },
  {
   "cell_type": "code",
   "execution_count": 59,
   "id": "cab82d62",
   "metadata": {
    "execution": {
     "iopub.execute_input": "2024-06-06T13:27:33.229980Z",
     "iopub.status.busy": "2024-06-06T13:27:33.229558Z",
     "iopub.status.idle": "2024-06-06T13:27:33.323186Z",
     "shell.execute_reply": "2024-06-06T13:27:33.322154Z"
    },
    "papermill": {
     "duration": 0.144997,
     "end_time": "2024-06-06T13:27:33.325668",
     "exception": false,
     "start_time": "2024-06-06T13:27:33.180671",
     "status": "completed"
    },
    "tags": []
   },
   "outputs": [
    {
     "data": {
      "text/html": [
       "<div>\n",
       "<style scoped>\n",
       "    .dataframe tbody tr th:only-of-type {\n",
       "        vertical-align: middle;\n",
       "    }\n",
       "\n",
       "    .dataframe tbody tr th {\n",
       "        vertical-align: top;\n",
       "    }\n",
       "\n",
       "    .dataframe thead th {\n",
       "        text-align: right;\n",
       "    }\n",
       "</style>\n",
       "<table border=\"1\" class=\"dataframe\">\n",
       "  <thead>\n",
       "    <tr style=\"text-align: right;\">\n",
       "      <th></th>\n",
       "      <th>show_id</th>\n",
       "      <th>type</th>\n",
       "      <th>title</th>\n",
       "      <th>director</th>\n",
       "      <th>cast</th>\n",
       "      <th>country</th>\n",
       "      <th>date_added</th>\n",
       "      <th>release_year</th>\n",
       "      <th>rating</th>\n",
       "      <th>duration</th>\n",
       "      <th>...</th>\n",
       "      <th>Spanish-Language TV Shows</th>\n",
       "      <th>Classic &amp; Cult TV</th>\n",
       "      <th>Music &amp; Musicals</th>\n",
       "      <th>Romantic Movies</th>\n",
       "      <th>LGBTQ Movies</th>\n",
       "      <th>Stand-Up Comedy</th>\n",
       "      <th>TV Sci-Fi &amp; Fantasy</th>\n",
       "      <th>Sports Movies</th>\n",
       "      <th>Movies_duration</th>\n",
       "      <th>TV_Seasons</th>\n",
       "    </tr>\n",
       "  </thead>\n",
       "  <tbody>\n",
       "    <tr>\n",
       "      <th>0</th>\n",
       "      <td>s1</td>\n",
       "      <td>Movie</td>\n",
       "      <td>Dick Johnson Is Dead</td>\n",
       "      <td>Kirsten Johnson</td>\n",
       "      <td>0</td>\n",
       "      <td>United States</td>\n",
       "      <td>September 25, 2021</td>\n",
       "      <td>2020</td>\n",
       "      <td>PG-13</td>\n",
       "      <td>90 min</td>\n",
       "      <td>...</td>\n",
       "      <td>0.0</td>\n",
       "      <td>0.0</td>\n",
       "      <td>0.0</td>\n",
       "      <td>0.0</td>\n",
       "      <td>0.0</td>\n",
       "      <td>0.0</td>\n",
       "      <td>0.0</td>\n",
       "      <td>0.0</td>\n",
       "      <td>90.0</td>\n",
       "      <td>0.0</td>\n",
       "    </tr>\n",
       "    <tr>\n",
       "      <th>1</th>\n",
       "      <td>s2</td>\n",
       "      <td>TV Show</td>\n",
       "      <td>Blood &amp; Water</td>\n",
       "      <td>0</td>\n",
       "      <td>Ama Qamata, Khosi Ngema, Gail Mabalane, Thaban...</td>\n",
       "      <td>South Africa</td>\n",
       "      <td>September 24, 2021</td>\n",
       "      <td>2021</td>\n",
       "      <td>TV-MA</td>\n",
       "      <td>2 Seasons</td>\n",
       "      <td>...</td>\n",
       "      <td>0.0</td>\n",
       "      <td>0.0</td>\n",
       "      <td>0.0</td>\n",
       "      <td>0.0</td>\n",
       "      <td>0.0</td>\n",
       "      <td>0.0</td>\n",
       "      <td>0.0</td>\n",
       "      <td>0.0</td>\n",
       "      <td>0.0</td>\n",
       "      <td>2.0</td>\n",
       "    </tr>\n",
       "    <tr>\n",
       "      <th>2</th>\n",
       "      <td>s3</td>\n",
       "      <td>TV Show</td>\n",
       "      <td>Ganglands</td>\n",
       "      <td>Julien Leclercq</td>\n",
       "      <td>Sami Bouajila, Tracy Gotoas, Samuel Jouy, Nabi...</td>\n",
       "      <td>0</td>\n",
       "      <td>September 24, 2021</td>\n",
       "      <td>2021</td>\n",
       "      <td>TV-MA</td>\n",
       "      <td>1 Season</td>\n",
       "      <td>...</td>\n",
       "      <td>0.0</td>\n",
       "      <td>0.0</td>\n",
       "      <td>0.0</td>\n",
       "      <td>0.0</td>\n",
       "      <td>0.0</td>\n",
       "      <td>0.0</td>\n",
       "      <td>0.0</td>\n",
       "      <td>0.0</td>\n",
       "      <td>0.0</td>\n",
       "      <td>1.0</td>\n",
       "    </tr>\n",
       "    <tr>\n",
       "      <th>3</th>\n",
       "      <td>s4</td>\n",
       "      <td>TV Show</td>\n",
       "      <td>Jailbirds New Orleans</td>\n",
       "      <td>0</td>\n",
       "      <td>0</td>\n",
       "      <td>0</td>\n",
       "      <td>September 24, 2021</td>\n",
       "      <td>2021</td>\n",
       "      <td>TV-MA</td>\n",
       "      <td>1 Season</td>\n",
       "      <td>...</td>\n",
       "      <td>0.0</td>\n",
       "      <td>0.0</td>\n",
       "      <td>0.0</td>\n",
       "      <td>0.0</td>\n",
       "      <td>0.0</td>\n",
       "      <td>0.0</td>\n",
       "      <td>0.0</td>\n",
       "      <td>0.0</td>\n",
       "      <td>0.0</td>\n",
       "      <td>1.0</td>\n",
       "    </tr>\n",
       "    <tr>\n",
       "      <th>4</th>\n",
       "      <td>s5</td>\n",
       "      <td>TV Show</td>\n",
       "      <td>Kota Factory</td>\n",
       "      <td>0</td>\n",
       "      <td>Mayur More, Jitendra Kumar, Ranjan Raj, Alam K...</td>\n",
       "      <td>India</td>\n",
       "      <td>September 24, 2021</td>\n",
       "      <td>2021</td>\n",
       "      <td>TV-MA</td>\n",
       "      <td>2 Seasons</td>\n",
       "      <td>...</td>\n",
       "      <td>0.0</td>\n",
       "      <td>0.0</td>\n",
       "      <td>0.0</td>\n",
       "      <td>0.0</td>\n",
       "      <td>0.0</td>\n",
       "      <td>0.0</td>\n",
       "      <td>0.0</td>\n",
       "      <td>0.0</td>\n",
       "      <td>0.0</td>\n",
       "      <td>2.0</td>\n",
       "    </tr>\n",
       "    <tr>\n",
       "      <th>...</th>\n",
       "      <td>...</td>\n",
       "      <td>...</td>\n",
       "      <td>...</td>\n",
       "      <td>...</td>\n",
       "      <td>...</td>\n",
       "      <td>...</td>\n",
       "      <td>...</td>\n",
       "      <td>...</td>\n",
       "      <td>...</td>\n",
       "      <td>...</td>\n",
       "      <td>...</td>\n",
       "      <td>...</td>\n",
       "      <td>...</td>\n",
       "      <td>...</td>\n",
       "      <td>...</td>\n",
       "      <td>...</td>\n",
       "      <td>...</td>\n",
       "      <td>...</td>\n",
       "      <td>...</td>\n",
       "      <td>...</td>\n",
       "      <td>...</td>\n",
       "    </tr>\n",
       "    <tr>\n",
       "      <th>8802</th>\n",
       "      <td>s8803</td>\n",
       "      <td>Movie</td>\n",
       "      <td>Zodiac</td>\n",
       "      <td>David Fincher</td>\n",
       "      <td>Mark Ruffalo, Jake Gyllenhaal, Robert Downey J...</td>\n",
       "      <td>United States</td>\n",
       "      <td>November 20, 2019</td>\n",
       "      <td>2007</td>\n",
       "      <td>R</td>\n",
       "      <td>158 min</td>\n",
       "      <td>...</td>\n",
       "      <td>0.0</td>\n",
       "      <td>0.0</td>\n",
       "      <td>0.0</td>\n",
       "      <td>0.0</td>\n",
       "      <td>0.0</td>\n",
       "      <td>0.0</td>\n",
       "      <td>0.0</td>\n",
       "      <td>0.0</td>\n",
       "      <td>158.0</td>\n",
       "      <td>0.0</td>\n",
       "    </tr>\n",
       "    <tr>\n",
       "      <th>8803</th>\n",
       "      <td>s8804</td>\n",
       "      <td>TV Show</td>\n",
       "      <td>Zombie Dumb</td>\n",
       "      <td>0</td>\n",
       "      <td>0</td>\n",
       "      <td>0</td>\n",
       "      <td>July 1, 2019</td>\n",
       "      <td>2018</td>\n",
       "      <td>TV-Y7</td>\n",
       "      <td>2 Seasons</td>\n",
       "      <td>...</td>\n",
       "      <td>0.0</td>\n",
       "      <td>0.0</td>\n",
       "      <td>0.0</td>\n",
       "      <td>0.0</td>\n",
       "      <td>0.0</td>\n",
       "      <td>0.0</td>\n",
       "      <td>0.0</td>\n",
       "      <td>0.0</td>\n",
       "      <td>0.0</td>\n",
       "      <td>2.0</td>\n",
       "    </tr>\n",
       "    <tr>\n",
       "      <th>8804</th>\n",
       "      <td>s8805</td>\n",
       "      <td>Movie</td>\n",
       "      <td>Zombieland</td>\n",
       "      <td>Ruben Fleischer</td>\n",
       "      <td>Jesse Eisenberg, Woody Harrelson, Emma Stone, ...</td>\n",
       "      <td>United States</td>\n",
       "      <td>November 1, 2019</td>\n",
       "      <td>2009</td>\n",
       "      <td>R</td>\n",
       "      <td>88 min</td>\n",
       "      <td>...</td>\n",
       "      <td>0.0</td>\n",
       "      <td>0.0</td>\n",
       "      <td>0.0</td>\n",
       "      <td>0.0</td>\n",
       "      <td>0.0</td>\n",
       "      <td>0.0</td>\n",
       "      <td>0.0</td>\n",
       "      <td>0.0</td>\n",
       "      <td>88.0</td>\n",
       "      <td>0.0</td>\n",
       "    </tr>\n",
       "    <tr>\n",
       "      <th>8805</th>\n",
       "      <td>s8806</td>\n",
       "      <td>Movie</td>\n",
       "      <td>Zoom</td>\n",
       "      <td>Peter Hewitt</td>\n",
       "      <td>Tim Allen, Courteney Cox, Chevy Chase, Kate Ma...</td>\n",
       "      <td>United States</td>\n",
       "      <td>January 11, 2020</td>\n",
       "      <td>2006</td>\n",
       "      <td>PG</td>\n",
       "      <td>88 min</td>\n",
       "      <td>...</td>\n",
       "      <td>0.0</td>\n",
       "      <td>0.0</td>\n",
       "      <td>0.0</td>\n",
       "      <td>0.0</td>\n",
       "      <td>0.0</td>\n",
       "      <td>0.0</td>\n",
       "      <td>0.0</td>\n",
       "      <td>0.0</td>\n",
       "      <td>88.0</td>\n",
       "      <td>0.0</td>\n",
       "    </tr>\n",
       "    <tr>\n",
       "      <th>8806</th>\n",
       "      <td>s8807</td>\n",
       "      <td>Movie</td>\n",
       "      <td>Zubaan</td>\n",
       "      <td>Mozez Singh</td>\n",
       "      <td>Vicky Kaushal, Sarah-Jane Dias, Raaghav Chanan...</td>\n",
       "      <td>India</td>\n",
       "      <td>March 2, 2019</td>\n",
       "      <td>2015</td>\n",
       "      <td>TV-14</td>\n",
       "      <td>111 min</td>\n",
       "      <td>...</td>\n",
       "      <td>0.0</td>\n",
       "      <td>0.0</td>\n",
       "      <td>0.0</td>\n",
       "      <td>0.0</td>\n",
       "      <td>0.0</td>\n",
       "      <td>0.0</td>\n",
       "      <td>0.0</td>\n",
       "      <td>0.0</td>\n",
       "      <td>111.0</td>\n",
       "      <td>0.0</td>\n",
       "    </tr>\n",
       "  </tbody>\n",
       "</table>\n",
       "<p>8807 rows × 87 columns</p>\n",
       "</div>"
      ],
      "text/plain": [
       "     show_id     type                  title         director  \\\n",
       "0         s1    Movie   Dick Johnson Is Dead  Kirsten Johnson   \n",
       "1         s2  TV Show          Blood & Water                0   \n",
       "2         s3  TV Show              Ganglands  Julien Leclercq   \n",
       "3         s4  TV Show  Jailbirds New Orleans                0   \n",
       "4         s5  TV Show           Kota Factory                0   \n",
       "...      ...      ...                    ...              ...   \n",
       "8802   s8803    Movie                 Zodiac    David Fincher   \n",
       "8803   s8804  TV Show            Zombie Dumb                0   \n",
       "8804   s8805    Movie             Zombieland  Ruben Fleischer   \n",
       "8805   s8806    Movie                   Zoom     Peter Hewitt   \n",
       "8806   s8807    Movie                 Zubaan      Mozez Singh   \n",
       "\n",
       "                                                   cast        country  \\\n",
       "0                                                     0  United States   \n",
       "1     Ama Qamata, Khosi Ngema, Gail Mabalane, Thaban...   South Africa   \n",
       "2     Sami Bouajila, Tracy Gotoas, Samuel Jouy, Nabi...              0   \n",
       "3                                                     0              0   \n",
       "4     Mayur More, Jitendra Kumar, Ranjan Raj, Alam K...          India   \n",
       "...                                                 ...            ...   \n",
       "8802  Mark Ruffalo, Jake Gyllenhaal, Robert Downey J...  United States   \n",
       "8803                                                  0              0   \n",
       "8804  Jesse Eisenberg, Woody Harrelson, Emma Stone, ...  United States   \n",
       "8805  Tim Allen, Courteney Cox, Chevy Chase, Kate Ma...  United States   \n",
       "8806  Vicky Kaushal, Sarah-Jane Dias, Raaghav Chanan...          India   \n",
       "\n",
       "              date_added  release_year rating   duration  ...  \\\n",
       "0     September 25, 2021          2020  PG-13     90 min  ...   \n",
       "1     September 24, 2021          2021  TV-MA  2 Seasons  ...   \n",
       "2     September 24, 2021          2021  TV-MA   1 Season  ...   \n",
       "3     September 24, 2021          2021  TV-MA   1 Season  ...   \n",
       "4     September 24, 2021          2021  TV-MA  2 Seasons  ...   \n",
       "...                  ...           ...    ...        ...  ...   \n",
       "8802   November 20, 2019          2007      R    158 min  ...   \n",
       "8803        July 1, 2019          2018  TV-Y7  2 Seasons  ...   \n",
       "8804    November 1, 2019          2009      R     88 min  ...   \n",
       "8805    January 11, 2020          2006     PG     88 min  ...   \n",
       "8806       March 2, 2019          2015  TV-14    111 min  ...   \n",
       "\n",
       "     Spanish-Language TV Shows  Classic & Cult TV  Music & Musicals  \\\n",
       "0                          0.0                0.0               0.0   \n",
       "1                          0.0                0.0               0.0   \n",
       "2                          0.0                0.0               0.0   \n",
       "3                          0.0                0.0               0.0   \n",
       "4                          0.0                0.0               0.0   \n",
       "...                        ...                ...               ...   \n",
       "8802                       0.0                0.0               0.0   \n",
       "8803                       0.0                0.0               0.0   \n",
       "8804                       0.0                0.0               0.0   \n",
       "8805                       0.0                0.0               0.0   \n",
       "8806                       0.0                0.0               0.0   \n",
       "\n",
       "      Romantic Movies  LGBTQ Movies   Stand-Up Comedy  TV Sci-Fi & Fantasy  \\\n",
       "0                 0.0           0.0               0.0                  0.0   \n",
       "1                 0.0           0.0               0.0                  0.0   \n",
       "2                 0.0           0.0               0.0                  0.0   \n",
       "3                 0.0           0.0               0.0                  0.0   \n",
       "4                 0.0           0.0               0.0                  0.0   \n",
       "...               ...           ...               ...                  ...   \n",
       "8802              0.0           0.0               0.0                  0.0   \n",
       "8803              0.0           0.0               0.0                  0.0   \n",
       "8804              0.0           0.0               0.0                  0.0   \n",
       "8805              0.0           0.0               0.0                  0.0   \n",
       "8806              0.0           0.0               0.0                  0.0   \n",
       "\n",
       "      Sports Movies  Movies_duration  TV_Seasons  \n",
       "0               0.0             90.0         0.0  \n",
       "1               0.0              0.0         2.0  \n",
       "2               0.0              0.0         1.0  \n",
       "3               0.0              0.0         1.0  \n",
       "4               0.0              0.0         2.0  \n",
       "...             ...              ...         ...  \n",
       "8802            0.0            158.0         0.0  \n",
       "8803            0.0              0.0         2.0  \n",
       "8804            0.0             88.0         0.0  \n",
       "8805            0.0             88.0         0.0  \n",
       "8806            0.0            111.0         0.0  \n",
       "\n",
       "[8807 rows x 87 columns]"
      ]
     },
     "execution_count": 59,
     "metadata": {},
     "output_type": "execute_result"
    }
   ],
   "source": [
    "#Let's create new columns for Series and Movies and extract their duration to the new columm, convert them to float\n",
    "\n",
    "data2['Movies_duration'] = data2['duration'].str.extract('(\\d+) min',expand=False).astype(float)\n",
    "data2['TV_Seasons'] = data2['duration'].str.extract('(\\d+) Season', expand=False).astype(float)\n",
    "\n",
    "data2.fillna(0)"
   ]
  },
  {
   "cell_type": "code",
   "execution_count": 60,
   "id": "dbe27f68",
   "metadata": {
    "execution": {
     "iopub.execute_input": "2024-06-06T13:27:33.424384Z",
     "iopub.status.busy": "2024-06-06T13:27:33.423395Z",
     "iopub.status.idle": "2024-06-06T13:27:33.438590Z",
     "shell.execute_reply": "2024-06-06T13:27:33.437525Z"
    },
    "papermill": {
     "duration": 0.067089,
     "end_time": "2024-06-06T13:27:33.441266",
     "exception": false,
     "start_time": "2024-06-06T13:27:33.374177",
     "status": "completed"
    },
    "tags": []
   },
   "outputs": [],
   "source": [
    "data2['type'] = pd.factorize(data2['type'])[0]\n",
    "data2['director'] = pd.factorize(data2['director'])[0]\n",
    "data2['country'] = pd.factorize(data2['country'])[0]\n",
    "data2['rating'] = pd.factorize(data2['rating'])[0]"
   ]
  },
  {
   "cell_type": "code",
   "execution_count": 61,
   "id": "fc13559c",
   "metadata": {
    "execution": {
     "iopub.execute_input": "2024-06-06T13:27:33.537751Z",
     "iopub.status.busy": "2024-06-06T13:27:33.537314Z",
     "iopub.status.idle": "2024-06-06T13:27:33.543784Z",
     "shell.execute_reply": "2024-06-06T13:27:33.542438Z"
    },
    "papermill": {
     "duration": 0.058183,
     "end_time": "2024-06-06T13:27:33.546807",
     "exception": false,
     "start_time": "2024-06-06T13:27:33.488624",
     "status": "completed"
    },
    "tags": []
   },
   "outputs": [],
   "source": [
    "X_feats = np.setdiff1d(data2.columns, ['show_id','title','cast','date_added', 'listed_in','duration','description'])"
   ]
  },
  {
   "cell_type": "code",
   "execution_count": 62,
   "id": "aaf36196",
   "metadata": {
    "execution": {
     "iopub.execute_input": "2024-06-06T13:27:33.645568Z",
     "iopub.status.busy": "2024-06-06T13:27:33.645117Z",
     "iopub.status.idle": "2024-06-06T13:27:33.656042Z",
     "shell.execute_reply": "2024-06-06T13:27:33.654595Z"
    },
    "papermill": {
     "duration": 0.064237,
     "end_time": "2024-06-06T13:27:33.658727",
     "exception": false,
     "start_time": "2024-06-06T13:27:33.594490",
     "status": "completed"
    },
    "tags": []
   },
   "outputs": [],
   "source": [
    "#bringing features into dataframe\n",
    "data_for_clustering = data2[X_feats]"
   ]
  },
  {
   "cell_type": "code",
   "execution_count": 63,
   "id": "cbdef5e0",
   "metadata": {
    "execution": {
     "iopub.execute_input": "2024-06-06T13:27:33.755689Z",
     "iopub.status.busy": "2024-06-06T13:27:33.755166Z",
     "iopub.status.idle": "2024-06-06T13:27:33.766543Z",
     "shell.execute_reply": "2024-06-06T13:27:33.765363Z"
    },
    "papermill": {
     "duration": 0.062922,
     "end_time": "2024-06-06T13:27:33.769305",
     "exception": false,
     "start_time": "2024-06-06T13:27:33.706383",
     "status": "completed"
    },
    "tags": []
   },
   "outputs": [],
   "source": [
    "data_for_clustering = data_for_clustering.fillna(0)"
   ]
  },
  {
   "cell_type": "markdown",
   "id": "01b06362",
   "metadata": {
    "papermill": {
     "duration": 0.047352,
     "end_time": "2024-06-06T13:27:33.864400",
     "exception": false,
     "start_time": "2024-06-06T13:27:33.817048",
     "status": "completed"
    },
    "tags": []
   },
   "source": [
    "# Importing Umap"
   ]
  },
  {
   "cell_type": "code",
   "execution_count": 64,
   "id": "9f3e2b01",
   "metadata": {
    "execution": {
     "iopub.execute_input": "2024-06-06T13:27:33.962059Z",
     "iopub.status.busy": "2024-06-06T13:27:33.960951Z",
     "iopub.status.idle": "2024-06-06T13:28:11.603418Z",
     "shell.execute_reply": "2024-06-06T13:28:11.601704Z"
    },
    "papermill": {
     "duration": 37.69474,
     "end_time": "2024-06-06T13:28:11.606686",
     "exception": false,
     "start_time": "2024-06-06T13:27:33.911946",
     "status": "completed"
    },
    "tags": []
   },
   "outputs": [],
   "source": [
    "import umap"
   ]
  },
  {
   "cell_type": "code",
   "execution_count": 65,
   "id": "46676aeb",
   "metadata": {
    "execution": {
     "iopub.execute_input": "2024-06-06T13:28:11.708929Z",
     "iopub.status.busy": "2024-06-06T13:28:11.707868Z",
     "iopub.status.idle": "2024-06-06T13:29:02.036776Z",
     "shell.execute_reply": "2024-06-06T13:29:02.035129Z"
    },
    "papermill": {
     "duration": 50.382821,
     "end_time": "2024-06-06T13:29:02.039842",
     "exception": false,
     "start_time": "2024-06-06T13:28:11.657021",
     "status": "completed"
    },
    "tags": []
   },
   "outputs": [
    {
     "name": "stderr",
     "output_type": "stream",
     "text": [
      "/opt/conda/lib/python3.10/site-packages/umap/umap_.py:1943: UserWarning: n_jobs value -1 overridden to 1 by setting random_state. Use no seed for parallelism.\n",
      "  warn(f\"n_jobs value {self.n_jobs} overridden to 1 by setting random_state. Use no seed for parallelism.\")\n"
     ]
    }
   ],
   "source": [
    "#squishing all the features into two columns\n",
    "model = umap.UMAP(random_state=42)\n",
    "train_umap_embeddings = model.fit_transform(data_for_clustering)"
   ]
  },
  {
   "cell_type": "code",
   "execution_count": 66,
   "id": "f493ddd9",
   "metadata": {
    "execution": {
     "iopub.execute_input": "2024-06-06T13:29:02.139258Z",
     "iopub.status.busy": "2024-06-06T13:29:02.138802Z",
     "iopub.status.idle": "2024-06-06T13:29:02.145336Z",
     "shell.execute_reply": "2024-06-06T13:29:02.144086Z"
    },
    "papermill": {
     "duration": 0.059079,
     "end_time": "2024-06-06T13:29:02.148033",
     "exception": false,
     "start_time": "2024-06-06T13:29:02.088954",
     "status": "completed"
    },
    "tags": []
   },
   "outputs": [],
   "source": [
    "trainUmap = pd.DataFrame(train_umap_embeddings)\n",
    "trainUmap.columns = ['col1', 'col2'] #renaming the columns after tranforming the data"
   ]
  },
  {
   "cell_type": "code",
   "execution_count": 67,
   "id": "19fc5eb1",
   "metadata": {
    "execution": {
     "iopub.execute_input": "2024-06-06T13:29:02.250359Z",
     "iopub.status.busy": "2024-06-06T13:29:02.249958Z",
     "iopub.status.idle": "2024-06-06T13:29:02.397098Z",
     "shell.execute_reply": "2024-06-06T13:29:02.396122Z"
    },
    "papermill": {
     "duration": 0.203206,
     "end_time": "2024-06-06T13:29:02.400268",
     "exception": false,
     "start_time": "2024-06-06T13:29:02.197062",
     "status": "completed"
    },
    "tags": []
   },
   "outputs": [],
   "source": [
    "from sklearn.cluster import KMeans\n",
    "\n",
    "Kmeans = KMeans(n_clusters = 8, random_state=2023, n_init=\"auto\").fit(trainUmap[['col1','col2']])\n",
    "cluster_ids = Kmeans.labels_\n",
    "trainUmap['cluster_ids'] = cluster_ids"
   ]
  },
  {
   "cell_type": "code",
   "execution_count": 68,
   "id": "8c73539b",
   "metadata": {
    "execution": {
     "iopub.execute_input": "2024-06-06T13:29:02.499389Z",
     "iopub.status.busy": "2024-06-06T13:29:02.498967Z",
     "iopub.status.idle": "2024-06-06T13:29:02.509188Z",
     "shell.execute_reply": "2024-06-06T13:29:02.507818Z"
    },
    "papermill": {
     "duration": 0.062768,
     "end_time": "2024-06-06T13:29:02.511887",
     "exception": false,
     "start_time": "2024-06-06T13:29:02.449119",
     "status": "completed"
    },
    "tags": []
   },
   "outputs": [
    {
     "data": {
      "text/plain": [
       "cluster_ids\n",
       "7    1519\n",
       "0    1447\n",
       "1    1217\n",
       "2    1093\n",
       "4     996\n",
       "6     931\n",
       "3     861\n",
       "5     743\n",
       "Name: count, dtype: int64"
      ]
     },
     "execution_count": 68,
     "metadata": {},
     "output_type": "execute_result"
    }
   ],
   "source": [
    "trainUmap['cluster_ids'].value_counts()"
   ]
  },
  {
   "cell_type": "code",
   "execution_count": 69,
   "id": "b3cea5dc",
   "metadata": {
    "execution": {
     "iopub.execute_input": "2024-06-06T13:29:02.615823Z",
     "iopub.status.busy": "2024-06-06T13:29:02.615329Z",
     "iopub.status.idle": "2024-06-06T13:29:03.506803Z",
     "shell.execute_reply": "2024-06-06T13:29:03.505586Z"
    },
    "papermill": {
     "duration": 0.947995,
     "end_time": "2024-06-06T13:29:03.509908",
     "exception": false,
     "start_time": "2024-06-06T13:29:02.561913",
     "status": "completed"
    },
    "tags": []
   },
   "outputs": [
    {
     "data": {
      "image/png": "[encoded data removed]",
      "text/plain": [
       "<Figure size 800x600 with 1 Axes>"
      ]
     },
     "metadata": {},
     "output_type": "display_data"
    }
   ],
   "source": [
    "# Scatter plot using Seaborn\n",
    "plt.figure(figsize=(8, 6))\n",
    "sns.scatterplot(x='col1', y='col2', hue='cluster_ids', data=trainUmap, palette='tab10')\n",
    "\n",
    "# Add labels and title\n",
    "plt.xlabel('Column 1')\n",
    "plt.ylabel('Column 2')\n",
    "plt.title('Scatter Plot with Clusters')\n",
    "\n",
    "plt.legend(title='cluster_ids', loc='upper left', bbox_to_anchor=(1, 1))\n",
    "# Show the plot\n",
    "plt.show()"
   ]
  },
  {
   "cell_type": "markdown",
   "id": "ec848500-dfac-47dd-bc40-acd58b228420",
   "metadata": {
    "papermill": {
     "duration": 0.051114,
     "end_time": "2024-06-06T13:29:03.611269",
     "exception": false,
     "start_time": "2024-06-06T13:29:03.560155",
     "status": "completed"
    },
    "tags": []
   },
   "source": [
    "In this project, we worked on a text clustering problem wherein we had to classify/group the Netflix shows into certain clusters such that the shows within a cluster are similar to each other and the shows in different clusters are dissimilar to each other."
   ]
  },
  {
   "cell_type": "code",
   "execution_count": null,
   "id": "c9c06484-8abb-49a8-a950-98bcbe2e923e",
   "metadata": {},
   "outputs": [],
   "source": []
  }
 ],
 "metadata": {
  "kaggle": {
   "accelerator": "none",
   "dataSources": [
    {
     "datasetId": 434238,
     "sourceId": 2654038,
     "sourceType": "datasetVersion"
    }
   ],
   "dockerImageVersionId": 30587,
   "isGpuEnabled": false,
   "isInternetEnabled": false,
   "language": "python",
   "sourceType": "notebook"
  },
  "kernelspec": {
   "display_name": "Python 3 (ipykernel)",
   "language": "python",
   "name": "python3"
  },
  "language_info": {
   "codemirror_mode": {
    "name": "ipython",
    "version": 3
   },
   "file_extension": ".py",
   "mimetype": "text/x-python",
   "name": "python",
   "nbconvert_exporter": "python",
   "pygments_lexer": "ipython3",
   "version": "3.12.7"
  },
  "papermill": {
   "default_parameters": {},
   "duration": 116.4309,
   "end_time": "2024-06-06T13:29:06.609576",
   "environment_variables": {},
   "exception": null,
   "input_path": "__notebook__.ipynb",
   "output_path": "__notebook__.ipynb",
   "parameters": {},
   "start_time": "2024-06-06T13:27:10.178676",
   "version": "2.4.0"
  }
 },
 "nbformat": 4,
 "nbformat_minor": 5
}
