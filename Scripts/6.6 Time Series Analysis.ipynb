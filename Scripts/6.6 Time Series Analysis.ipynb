{
 "cells": [
  {
   "cell_type": "markdown",
   "id": "05b9cc54-eb53-4706-aeb8-499f0e33fc61",
   "metadata": {},
   "source": [
    "## This script contains the following:\n",
    "\n",
    "### 1. Importing your libraries and data\n",
    "### 2. Subsetting, wrangling, and cleaning time-series data\n",
    "### 3. Time series analysis: decomposition\n",
    "### 4. Testing for stationarity\n",
    "### 5. Stationarizing the Zillow Real Estate Data"
   ]
  },
  {
   "cell_type": "code",
   "execution_count": null,
   "id": "70addf5e-6b9e-4b20-9d57-c603ed51cbc6",
   "metadata": {},
   "outputs": [],
   "source": []
  },
  {
   "cell_type": "markdown",
   "id": "2499bf38-be5d-4209-a421-edbbdfcd9c3a",
   "metadata": {},
   "source": [
    "### 1. Importing libraries and data"
   ]
  },
  {
   "cell_type": "code",
   "execution_count": 3,
   "id": "d3c1b02e-7aea-4489-8651-0427bf672c19",
   "metadata": {},
   "outputs": [],
   "source": [
    "# Import libraries\n",
    "\n",
    "import pandas as pd\n",
    "import numpy as np\n",
    "import seaborn as sns\n",
    "import matplotlib\n",
    "import matplotlib.pyplot as plt\n",
    "import os\n",
    "import statsmodels.api as sm\n",
    "import warnings\n",
    "\n",
    "\n",
    "warnings.filterwarnings(\"ignore\")\n",
    "\n",
    "plt.style.use('fivethirtyeight')"
   ]
  },
  {
   "cell_type": "code",
   "execution_count": 4,
   "id": "3d90f914-14f2-41a9-ad1c-282a204ffce5",
   "metadata": {},
   "outputs": [],
   "source": [
    "# Importing the Zillow Real Estate Data \n",
    "\n",
    "# Data Source: Zillow Data from Nasdaq Data Link\n",
    " \n",
    "# For the purpose of this case study, we need to filter the data to include all zipcodes within King County, WA.\n",
    "\n",
    "path =  '/Users/swapnilgadage/Documents/DataAnalytics/Achivment 6'\n",
    "\n",
    "data = pd.read_csv(os.path.join(path, 'Data', 'Original Data', 'ZILLOW_DATA.csv'))\n",
    "regions = pd.read_csv(os.path.join(path, 'Data', 'Original Data', 'ZILLOW_REGIONS.csv'))"
   ]
  },
  {
   "cell_type": "code",
   "execution_count": 5,
   "id": "ffbe6a38-83a3-4cc6-af01-e03fe6f9c8d9",
   "metadata": {},
   "outputs": [
    {
     "data": {
      "text/html": [
       "<div>\n",
       "<style scoped>\n",
       "    .dataframe tbody tr th:only-of-type {\n",
       "        vertical-align: middle;\n",
       "    }\n",
       "\n",
       "    .dataframe tbody tr th {\n",
       "        vertical-align: top;\n",
       "    }\n",
       "\n",
       "    .dataframe thead th {\n",
       "        text-align: right;\n",
       "    }\n",
       "</style>\n",
       "<table border=\"1\" class=\"dataframe\">\n",
       "  <thead>\n",
       "    <tr style=\"text-align: right;\">\n",
       "      <th></th>\n",
       "      <th>indicator_id</th>\n",
       "      <th>region_id</th>\n",
       "      <th>date</th>\n",
       "      <th>value</th>\n",
       "    </tr>\n",
       "  </thead>\n",
       "  <tbody>\n",
       "    <tr>\n",
       "      <th>0</th>\n",
       "      <td>Z4BR</td>\n",
       "      <td>65856</td>\n",
       "      <td>2018-02-28</td>\n",
       "      <td>509966.717868</td>\n",
       "    </tr>\n",
       "    <tr>\n",
       "      <th>1</th>\n",
       "      <td>Z4BR</td>\n",
       "      <td>94920</td>\n",
       "      <td>2018-02-28</td>\n",
       "      <td>393052.284119</td>\n",
       "    </tr>\n",
       "    <tr>\n",
       "      <th>2</th>\n",
       "      <td>Z4BR</td>\n",
       "      <td>63078</td>\n",
       "      <td>2018-02-28</td>\n",
       "      <td>89932.390841</td>\n",
       "    </tr>\n",
       "    <tr>\n",
       "      <th>3</th>\n",
       "      <td>Z4BR</td>\n",
       "      <td>73108</td>\n",
       "      <td>2018-02-28</td>\n",
       "      <td>219385.968716</td>\n",
       "    </tr>\n",
       "    <tr>\n",
       "      <th>4</th>\n",
       "      <td>Z4BR</td>\n",
       "      <td>77740</td>\n",
       "      <td>2018-02-28</td>\n",
       "      <td>218395.779920</td>\n",
       "    </tr>\n",
       "  </tbody>\n",
       "</table>\n",
       "</div>"
      ],
      "text/plain": [
       "  indicator_id  region_id        date          value\n",
       "0         Z4BR      65856  2018-02-28  509966.717868\n",
       "1         Z4BR      94920  2018-02-28  393052.284119\n",
       "2         Z4BR      63078  2018-02-28   89932.390841\n",
       "3         Z4BR      73108  2018-02-28  219385.968716\n",
       "4         Z4BR      77740  2018-02-28  218395.779920"
      ]
     },
     "execution_count": 5,
     "metadata": {},
     "output_type": "execute_result"
    }
   ],
   "source": [
    "data.head()"
   ]
  },
  {
   "cell_type": "code",
   "execution_count": 6,
   "id": "cfd70e9b-4ed8-4f09-9962-8a6b930ea598",
   "metadata": {},
   "outputs": [
    {
     "data": {
      "text/plain": [
       "(155574532, 4)"
      ]
     },
     "execution_count": 6,
     "metadata": {},
     "output_type": "execute_result"
    }
   ],
   "source": [
    "data.shape"
   ]
  },
  {
   "cell_type": "code",
   "execution_count": 7,
   "id": "8b2c1b72-070d-4596-95c3-6d8b226cd677",
   "metadata": {},
   "outputs": [
    {
     "data": {
      "text/html": [
       "<div>\n",
       "<style scoped>\n",
       "    .dataframe tbody tr th:only-of-type {\n",
       "        vertical-align: middle;\n",
       "    }\n",
       "\n",
       "    .dataframe tbody tr th {\n",
       "        vertical-align: top;\n",
       "    }\n",
       "\n",
       "    .dataframe thead th {\n",
       "        text-align: right;\n",
       "    }\n",
       "</style>\n",
       "<table border=\"1\" class=\"dataframe\">\n",
       "  <thead>\n",
       "    <tr style=\"text-align: right;\">\n",
       "      <th></th>\n",
       "      <th>region_id</th>\n",
       "      <th>region_type</th>\n",
       "      <th>region</th>\n",
       "    </tr>\n",
       "  </thead>\n",
       "  <tbody>\n",
       "    <tr>\n",
       "      <th>0</th>\n",
       "      <td>394415</td>\n",
       "      <td>metro</td>\n",
       "      <td>Bridgeport, CT</td>\n",
       "    </tr>\n",
       "    <tr>\n",
       "      <th>1</th>\n",
       "      <td>394653</td>\n",
       "      <td>metro</td>\n",
       "      <td>Greenville, SC</td>\n",
       "    </tr>\n",
       "    <tr>\n",
       "      <th>2</th>\n",
       "      <td>394312</td>\n",
       "      <td>metro</td>\n",
       "      <td>Albuquerque, NM</td>\n",
       "    </tr>\n",
       "    <tr>\n",
       "      <th>3</th>\n",
       "      <td>394357</td>\n",
       "      <td>metro</td>\n",
       "      <td>Bakersfield, CA</td>\n",
       "    </tr>\n",
       "    <tr>\n",
       "      <th>4</th>\n",
       "      <td>394308</td>\n",
       "      <td>metro</td>\n",
       "      <td>Albany, NY</td>\n",
       "    </tr>\n",
       "  </tbody>\n",
       "</table>\n",
       "</div>"
      ],
      "text/plain": [
       "   region_id region_type           region\n",
       "0     394415       metro   Bridgeport, CT\n",
       "1     394653       metro   Greenville, SC\n",
       "2     394312       metro  Albuquerque, NM\n",
       "3     394357       metro  Bakersfield, CA\n",
       "4     394308       metro       Albany, NY"
      ]
     },
     "execution_count": 7,
     "metadata": {},
     "output_type": "execute_result"
    }
   ],
   "source": [
    "regions.head()"
   ]
  },
  {
   "cell_type": "markdown",
   "id": "e97d814a-4f78-4390-9051-21d3af221045",
   "metadata": {},
   "source": [
    "### 2. Subsetting, wrangling, and cleaning time-series data"
   ]
  },
  {
   "cell_type": "code",
   "execution_count": 10,
   "id": "21adfbde-d005-45a2-8b6f-a886258c2320",
   "metadata": {},
   "outputs": [],
   "source": [
    "# Create a subset from region data filtered to only show regions based on zip code\n",
    "regions_zip = regions.loc[(regions['region_type'] == 'zip')]"
   ]
  },
  {
   "cell_type": "code",
   "execution_count": 11,
   "id": "bf1d6c4a-fec3-4775-bd9c-2ed4b0c568cd",
   "metadata": {},
   "outputs": [
    {
     "data": {
      "text/html": [
       "<div>\n",
       "<style scoped>\n",
       "    .dataframe tbody tr th:only-of-type {\n",
       "        vertical-align: middle;\n",
       "    }\n",
       "\n",
       "    .dataframe tbody tr th {\n",
       "        vertical-align: top;\n",
       "    }\n",
       "\n",
       "    .dataframe thead th {\n",
       "        text-align: right;\n",
       "    }\n",
       "</style>\n",
       "<table border=\"1\" class=\"dataframe\">\n",
       "  <thead>\n",
       "    <tr style=\"text-align: right;\">\n",
       "      <th></th>\n",
       "      <th>region_id</th>\n",
       "      <th>region_type</th>\n",
       "      <th>region</th>\n",
       "    </tr>\n",
       "  </thead>\n",
       "  <tbody>\n",
       "    <tr>\n",
       "      <th>154</th>\n",
       "      <td>58011</td>\n",
       "      <td>zip</td>\n",
       "      <td>00612; MI; Crawford County; Frederic</td>\n",
       "    </tr>\n",
       "    <tr>\n",
       "      <th>817</th>\n",
       "      <td>58051</td>\n",
       "      <td>zip</td>\n",
       "      <td>00693; PA; Pittsburgh; Westmoreland County; Gr...</td>\n",
       "    </tr>\n",
       "    <tr>\n",
       "      <th>1755</th>\n",
       "      <td>58109</td>\n",
       "      <td>zip</td>\n",
       "      <td>00795; AL; Auburn-Opelika; Lee County; Juana Diaz</td>\n",
       "    </tr>\n",
       "    <tr>\n",
       "      <th>2737</th>\n",
       "      <td>62046</td>\n",
       "      <td>zip</td>\n",
       "      <td>11236;NY;New York-Newark-Jersey City, NY-NJ-PA...</td>\n",
       "    </tr>\n",
       "    <tr>\n",
       "      <th>2738</th>\n",
       "      <td>61807</td>\n",
       "      <td>zip</td>\n",
       "      <td>10467;NY;New York-Newark-Jersey City, NY-NJ-PA...</td>\n",
       "    </tr>\n",
       "  </tbody>\n",
       "</table>\n",
       "</div>"
      ],
      "text/plain": [
       "      region_id region_type                                             region\n",
       "154       58011         zip               00612; MI; Crawford County; Frederic\n",
       "817       58051         zip  00693; PA; Pittsburgh; Westmoreland County; Gr...\n",
       "1755      58109         zip  00795; AL; Auburn-Opelika; Lee County; Juana Diaz\n",
       "2737      62046         zip  11236;NY;New York-Newark-Jersey City, NY-NJ-PA...\n",
       "2738      61807         zip  10467;NY;New York-Newark-Jersey City, NY-NJ-PA..."
      ]
     },
     "execution_count": 11,
     "metadata": {},
     "output_type": "execute_result"
    }
   ],
   "source": [
    "regions_zip.head()"
   ]
  },
  {
   "cell_type": "code",
   "execution_count": 12,
   "id": "fd2faf8d-403e-4460-bdd0-12fcb3a4908d",
   "metadata": {},
   "outputs": [],
   "source": [
    "# List of desired ZIP codes\n",
    "zip_codes = [98001, 98002, 98003, 98004, 98005, 98006, 98007, 98008, 98010, 98011, \n",
    "             98014, 98019, 98022, 98023, 98024, 98027, 98028, 98029, 98030, 98031,\n",
    "             98032, 98033, 98034, 98038, 98039, 98040, 98042, 98045, 98047, 98051,\n",
    "             98052, 98053, 98055, 98056, 98057, 98058, 98059, 98065, 98070, 98072,\n",
    "             98074, 98075, 98077, 98092, 98101, 98102, 98103, 98104, 98105, 98106, \n",
    "             98107, 98108, 98109, 98112, 98115, 98116, 98117, 98118, 98119, 98121,\n",
    "             98122, 98125, 98126, 98131, 98133, 98134, 98136, 98144, 98146, 98148, \n",
    "             98154, 98155, 98158, 98161, 98164, 98166, 98168, 98174, 98177, 98178, \n",
    "             98188, 98198, 98199, 98251, 98354, 98422]"
   ]
  },
  {
   "cell_type": "code",
   "execution_count": 13,
   "id": "d4e359d6-8ffe-4eb3-aa3d-2826fa304863",
   "metadata": {},
   "outputs": [],
   "source": [
    "# Zipcode is currently embedded as part of a string in the 'region' column. \n",
    "# We need to extract the zipcode and create a new column.\n",
    "\n",
    "# Function to extract ZIP code if it's valid from the 'region' column\n",
    "def extract_zip(region_str):\n",
    "    first_part = region_str.split(';')[0]  # Split by ';' and take the first part\n",
    "    if first_part.isdigit():  # Check if the first part is a number\n",
    "        return int(first_part)\n",
    "    return None  # Return None if it's not a ZIP code\n",
    "\n",
    "# Apply the function to create a new 'zip_code' column\n",
    "regions_zip['zip_code'] = regions_zip['region'].apply(extract_zip)"
   ]
  },
  {
   "cell_type": "code",
   "execution_count": 14,
   "id": "dd7cefab-c2cb-4e42-a342-6864b4c0bfe0",
   "metadata": {},
   "outputs": [
    {
     "data": {
      "text/html": [
       "<div>\n",
       "<style scoped>\n",
       "    .dataframe tbody tr th:only-of-type {\n",
       "        vertical-align: middle;\n",
       "    }\n",
       "\n",
       "    .dataframe tbody tr th {\n",
       "        vertical-align: top;\n",
       "    }\n",
       "\n",
       "    .dataframe thead th {\n",
       "        text-align: right;\n",
       "    }\n",
       "</style>\n",
       "<table border=\"1\" class=\"dataframe\">\n",
       "  <thead>\n",
       "    <tr style=\"text-align: right;\">\n",
       "      <th></th>\n",
       "      <th>region_id</th>\n",
       "      <th>region_type</th>\n",
       "      <th>region</th>\n",
       "      <th>zip_code</th>\n",
       "    </tr>\n",
       "  </thead>\n",
       "  <tbody>\n",
       "    <tr>\n",
       "      <th>42647</th>\n",
       "      <td>99534</td>\n",
       "      <td>zip</td>\n",
       "      <td>98052;WA;Seattle-Tacoma-Bellevue, WA;Redmond;K...</td>\n",
       "      <td>98052</td>\n",
       "    </tr>\n",
       "    <tr>\n",
       "      <th>43536</th>\n",
       "      <td>99565</td>\n",
       "      <td>zip</td>\n",
       "      <td>98105;WA;Seattle-Tacoma-Bellevue, WA;Seattle;K...</td>\n",
       "      <td>98105</td>\n",
       "    </tr>\n",
       "    <tr>\n",
       "      <th>43549</th>\n",
       "      <td>99559</td>\n",
       "      <td>zip</td>\n",
       "      <td>98092;WA;Seattle-Tacoma-Bellevue, WA;nan;King ...</td>\n",
       "      <td>98092</td>\n",
       "    </tr>\n",
       "    <tr>\n",
       "      <th>43578</th>\n",
       "      <td>99575</td>\n",
       "      <td>zip</td>\n",
       "      <td>98115;WA;Seattle-Tacoma-Bellevue, WA;Seattle;K...</td>\n",
       "      <td>98115</td>\n",
       "    </tr>\n",
       "    <tr>\n",
       "      <th>43583</th>\n",
       "      <td>99508</td>\n",
       "      <td>zip</td>\n",
       "      <td>98023;WA;Seattle-Tacoma-Bellevue, WA;Federal W...</td>\n",
       "      <td>98023</td>\n",
       "    </tr>\n",
       "  </tbody>\n",
       "</table>\n",
       "</div>"
      ],
      "text/plain": [
       "       region_id region_type  \\\n",
       "42647      99534         zip   \n",
       "43536      99565         zip   \n",
       "43549      99559         zip   \n",
       "43578      99575         zip   \n",
       "43583      99508         zip   \n",
       "\n",
       "                                                  region  zip_code  \n",
       "42647  98052;WA;Seattle-Tacoma-Bellevue, WA;Redmond;K...     98052  \n",
       "43536  98105;WA;Seattle-Tacoma-Bellevue, WA;Seattle;K...     98105  \n",
       "43549  98092;WA;Seattle-Tacoma-Bellevue, WA;nan;King ...     98092  \n",
       "43578  98115;WA;Seattle-Tacoma-Bellevue, WA;Seattle;K...     98115  \n",
       "43583  98023;WA;Seattle-Tacoma-Bellevue, WA;Federal W...     98023  "
      ]
     },
     "execution_count": 14,
     "metadata": {},
     "output_type": "execute_result"
    }
   ],
   "source": [
    "# Filter by desired ZIP codes\n",
    "filtered_zip = regions_zip[regions_zip['zip_code'].isin(zip_codes)]\n",
    "\n",
    "# Print the filtered dataframe\n",
    "filtered_zip.head()"
   ]
  },
  {
   "cell_type": "code",
   "execution_count": 15,
   "id": "d594880a-1ea6-4cce-8d0a-b80b83b003d6",
   "metadata": {},
   "outputs": [],
   "source": [
    "# Merge the 'filtered_zip' dataframe on 'data'\n",
    "df_merged = data.merge(filtered_zip, on = 'region_id', how = 'inner')"
   ]
  },
  {
   "cell_type": "code",
   "execution_count": 16,
   "id": "f708d6c0-c289-4c97-b1fa-974c13d10b7c",
   "metadata": {},
   "outputs": [
    {
     "data": {
      "text/html": [
       "<div>\n",
       "<style scoped>\n",
       "    .dataframe tbody tr th:only-of-type {\n",
       "        vertical-align: middle;\n",
       "    }\n",
       "\n",
       "    .dataframe tbody tr th {\n",
       "        vertical-align: top;\n",
       "    }\n",
       "\n",
       "    .dataframe thead th {\n",
       "        text-align: right;\n",
       "    }\n",
       "</style>\n",
       "<table border=\"1\" class=\"dataframe\">\n",
       "  <thead>\n",
       "    <tr style=\"text-align: right;\">\n",
       "      <th></th>\n",
       "      <th>indicator_id</th>\n",
       "      <th>region_id</th>\n",
       "      <th>date</th>\n",
       "      <th>value</th>\n",
       "      <th>region_type</th>\n",
       "      <th>region</th>\n",
       "      <th>zip_code</th>\n",
       "    </tr>\n",
       "  </thead>\n",
       "  <tbody>\n",
       "    <tr>\n",
       "      <th>0</th>\n",
       "      <td>Z4BR</td>\n",
       "      <td>99502</td>\n",
       "      <td>2018-02-28</td>\n",
       "      <td>717732.216835</td>\n",
       "      <td>zip</td>\n",
       "      <td>98014;WA;Seattle-Tacoma-Bellevue, WA;Carnation...</td>\n",
       "      <td>98014</td>\n",
       "    </tr>\n",
       "    <tr>\n",
       "      <th>1</th>\n",
       "      <td>Z4BR</td>\n",
       "      <td>99741</td>\n",
       "      <td>2018-02-28</td>\n",
       "      <td>405107.137256</td>\n",
       "      <td>zip</td>\n",
       "      <td>98354;WA;Seattle-Tacoma-Bellevue, WA;Milton;Pi...</td>\n",
       "      <td>98354</td>\n",
       "    </tr>\n",
       "    <tr>\n",
       "      <th>2</th>\n",
       "      <td>Z4BR</td>\n",
       "      <td>99533</td>\n",
       "      <td>2018-02-28</td>\n",
       "      <td>721160.698773</td>\n",
       "      <td>zip</td>\n",
       "      <td>98051;WA;Seattle-Tacoma-Bellevue, WA;Ravensdal...</td>\n",
       "      <td>98051</td>\n",
       "    </tr>\n",
       "    <tr>\n",
       "      <th>3</th>\n",
       "      <td>Z4BR</td>\n",
       "      <td>99498</td>\n",
       "      <td>2018-02-28</td>\n",
       "      <td>532375.955907</td>\n",
       "      <td>zip</td>\n",
       "      <td>98010;WA;Seattle-Tacoma-Bellevue, WA;Black Dia...</td>\n",
       "      <td>98010</td>\n",
       "    </tr>\n",
       "    <tr>\n",
       "      <th>4</th>\n",
       "      <td>Z4BR</td>\n",
       "      <td>99509</td>\n",
       "      <td>2018-02-28</td>\n",
       "      <td>872770.026714</td>\n",
       "      <td>zip</td>\n",
       "      <td>98024;WA;Seattle-Tacoma-Bellevue, WA;Fall City...</td>\n",
       "      <td>98024</td>\n",
       "    </tr>\n",
       "  </tbody>\n",
       "</table>\n",
       "</div>"
      ],
      "text/plain": [
       "  indicator_id  region_id        date          value region_type  \\\n",
       "0         Z4BR      99502  2018-02-28  717732.216835         zip   \n",
       "1         Z4BR      99741  2018-02-28  405107.137256         zip   \n",
       "2         Z4BR      99533  2018-02-28  721160.698773         zip   \n",
       "3         Z4BR      99498  2018-02-28  532375.955907         zip   \n",
       "4         Z4BR      99509  2018-02-28  872770.026714         zip   \n",
       "\n",
       "                                              region  zip_code  \n",
       "0  98014;WA;Seattle-Tacoma-Bellevue, WA;Carnation...     98014  \n",
       "1  98354;WA;Seattle-Tacoma-Bellevue, WA;Milton;Pi...     98354  \n",
       "2  98051;WA;Seattle-Tacoma-Bellevue, WA;Ravensdal...     98051  \n",
       "3  98010;WA;Seattle-Tacoma-Bellevue, WA;Black Dia...     98010  \n",
       "4  98024;WA;Seattle-Tacoma-Bellevue, WA;Fall City...     98024  "
      ]
     },
     "execution_count": 16,
     "metadata": {},
     "output_type": "execute_result"
    }
   ],
   "source": [
    "df_merged.head()"
   ]
  },
  {
   "cell_type": "code",
   "execution_count": 17,
   "id": "0c6a8fac-7ca0-43aa-851f-ddc47423c37e",
   "metadata": {},
   "outputs": [
    {
     "data": {
      "text/plain": [
       "indicator_id\n",
       "ZALL    27639\n",
       "Z2BR    27384\n",
       "ZSFH    27312\n",
       "Z3BR    27236\n",
       "Z4BR    26324\n",
       "Z5BR    25896\n",
       "Z1BR    25116\n",
       "ZCON    24722\n",
       "RSNA     5398\n",
       "RSSA     5398\n",
       "Name: count, dtype: int64"
      ]
     },
     "execution_count": 17,
     "metadata": {},
     "output_type": "execute_result"
    }
   ],
   "source": [
    "df_merged['indicator_id'].value_counts()"
   ]
  },
  {
   "cell_type": "code",
   "execution_count": 18,
   "id": "e977207a-bbca-4539-8ecd-f169a7a2f7e6",
   "metadata": {},
   "outputs": [],
   "source": [
    "# Create subset including records where indicator_id == 'ZALL' \n",
    "# 'ZALL' represents the \"house price for All Homes (SFR, Condo/Co-op)\"\n",
    "\n",
    "df_merged2 = df_merged.loc[(df_merged['indicator_id'] == 'ZALL')]"
   ]
  },
  {
   "cell_type": "code",
   "execution_count": 19,
   "id": "164337f3-d567-4232-9d41-1470e05316dd",
   "metadata": {},
   "outputs": [
    {
     "data": {
      "text/html": [
       "<div>\n",
       "<style scoped>\n",
       "    .dataframe tbody tr th:only-of-type {\n",
       "        vertical-align: middle;\n",
       "    }\n",
       "\n",
       "    .dataframe tbody tr th {\n",
       "        vertical-align: top;\n",
       "    }\n",
       "\n",
       "    .dataframe thead th {\n",
       "        text-align: right;\n",
       "    }\n",
       "</style>\n",
       "<table border=\"1\" class=\"dataframe\">\n",
       "  <thead>\n",
       "    <tr style=\"text-align: right;\">\n",
       "      <th></th>\n",
       "      <th>indicator_id</th>\n",
       "      <th>region_id</th>\n",
       "      <th>date</th>\n",
       "      <th>value</th>\n",
       "      <th>region_type</th>\n",
       "      <th>region</th>\n",
       "      <th>zip_code</th>\n",
       "    </tr>\n",
       "  </thead>\n",
       "  <tbody>\n",
       "    <tr>\n",
       "      <th>20602</th>\n",
       "      <td>ZALL</td>\n",
       "      <td>99534</td>\n",
       "      <td>1996-01-31</td>\n",
       "      <td>210783.0</td>\n",
       "      <td>zip</td>\n",
       "      <td>98052;WA;Seattle-Tacoma-Bellevue, WA;Redmond;K...</td>\n",
       "      <td>98052</td>\n",
       "    </tr>\n",
       "    <tr>\n",
       "      <th>20603</th>\n",
       "      <td>ZALL</td>\n",
       "      <td>99534</td>\n",
       "      <td>1996-02-29</td>\n",
       "      <td>210840.0</td>\n",
       "      <td>zip</td>\n",
       "      <td>98052;WA;Seattle-Tacoma-Bellevue, WA;Redmond;K...</td>\n",
       "      <td>98052</td>\n",
       "    </tr>\n",
       "    <tr>\n",
       "      <th>20604</th>\n",
       "      <td>ZALL</td>\n",
       "      <td>99534</td>\n",
       "      <td>1996-03-31</td>\n",
       "      <td>210858.0</td>\n",
       "      <td>zip</td>\n",
       "      <td>98052;WA;Seattle-Tacoma-Bellevue, WA;Redmond;K...</td>\n",
       "      <td>98052</td>\n",
       "    </tr>\n",
       "    <tr>\n",
       "      <th>20605</th>\n",
       "      <td>ZALL</td>\n",
       "      <td>99534</td>\n",
       "      <td>1996-04-30</td>\n",
       "      <td>210898.0</td>\n",
       "      <td>zip</td>\n",
       "      <td>98052;WA;Seattle-Tacoma-Bellevue, WA;Redmond;K...</td>\n",
       "      <td>98052</td>\n",
       "    </tr>\n",
       "    <tr>\n",
       "      <th>20606</th>\n",
       "      <td>ZALL</td>\n",
       "      <td>99534</td>\n",
       "      <td>1996-05-31</td>\n",
       "      <td>210905.0</td>\n",
       "      <td>zip</td>\n",
       "      <td>98052;WA;Seattle-Tacoma-Bellevue, WA;Redmond;K...</td>\n",
       "      <td>98052</td>\n",
       "    </tr>\n",
       "  </tbody>\n",
       "</table>\n",
       "</div>"
      ],
      "text/plain": [
       "      indicator_id  region_id        date     value region_type  \\\n",
       "20602         ZALL      99534  1996-01-31  210783.0         zip   \n",
       "20603         ZALL      99534  1996-02-29  210840.0         zip   \n",
       "20604         ZALL      99534  1996-03-31  210858.0         zip   \n",
       "20605         ZALL      99534  1996-04-30  210898.0         zip   \n",
       "20606         ZALL      99534  1996-05-31  210905.0         zip   \n",
       "\n",
       "                                                  region  zip_code  \n",
       "20602  98052;WA;Seattle-Tacoma-Bellevue, WA;Redmond;K...     98052  \n",
       "20603  98052;WA;Seattle-Tacoma-Bellevue, WA;Redmond;K...     98052  \n",
       "20604  98052;WA;Seattle-Tacoma-Bellevue, WA;Redmond;K...     98052  \n",
       "20605  98052;WA;Seattle-Tacoma-Bellevue, WA;Redmond;K...     98052  \n",
       "20606  98052;WA;Seattle-Tacoma-Bellevue, WA;Redmond;K...     98052  "
      ]
     },
     "execution_count": 19,
     "metadata": {},
     "output_type": "execute_result"
    }
   ],
   "source": [
    "df_merged2.head()"
   ]
  },
  {
   "cell_type": "markdown",
   "id": "aa16ed7f-49d9-4e82-9092-e61684ae47c3",
   "metadata": {},
   "source": [
    "####  Data Cleaning"
   ]
  },
  {
   "cell_type": "code",
   "execution_count": 21,
   "id": "639e07c6-9e01-4adb-b10c-61dea02f5baa",
   "metadata": {},
   "outputs": [
    {
     "data": {
      "text/plain": [
       "indicator_id     object\n",
       "region_id         int64\n",
       "date             object\n",
       "value           float64\n",
       "region_type      object\n",
       "region           object\n",
       "zip_code          int64\n",
       "dtype: object"
      ]
     },
     "execution_count": 21,
     "metadata": {},
     "output_type": "execute_result"
    }
   ],
   "source": [
    "df_merged2.dtypes"
   ]
  },
  {
   "cell_type": "code",
   "execution_count": 22,
   "id": "8cfa3553-c3fa-4932-a3ff-4344da36bd3b",
   "metadata": {},
   "outputs": [],
   "source": [
    "# Convert 'date' to datetime format\n",
    "df_merged2['date'] = pd.to_datetime(df_merged2['date'])"
   ]
  },
  {
   "cell_type": "code",
   "execution_count": 23,
   "id": "588d583f-3859-4bf8-94d7-5589bddc9c69",
   "metadata": {},
   "outputs": [
    {
     "name": "stdout",
     "output_type": "stream",
     "text": [
      "Empty DataFrame\n",
      "Columns: [indicator_id, region_id, date, value, region_type, region, zip_code]\n",
      "Index: []\n"
     ]
    }
   ],
   "source": [
    "# Check for duplicates\n",
    "dups = df_merged2[df_merged2.duplicated()]\n",
    "\n",
    "print(dups)"
   ]
  },
  {
   "cell_type": "markdown",
   "id": "eb6c7fa3-8edc-4137-a14a-fe187af4bb74",
   "metadata": {},
   "source": [
    "There are no duplicates."
   ]
  },
  {
   "cell_type": "code",
   "execution_count": 25,
   "id": "092c45a7-0651-4761-8987-eed840ec491f",
   "metadata": {},
   "outputs": [
    {
     "data": {
      "text/plain": [
       "indicator_id    0\n",
       "region_id       0\n",
       "date            0\n",
       "value           0\n",
       "region_type     0\n",
       "region          0\n",
       "zip_code        0\n",
       "dtype: int64"
      ]
     },
     "execution_count": 25,
     "metadata": {},
     "output_type": "execute_result"
    }
   ],
   "source": [
    "# Check for missing values\n",
    "df_merged2.isnull().sum()"
   ]
  },
  {
   "cell_type": "markdown",
   "id": "533a0fc8-fec7-49e4-baee-36cb6e2f6f78",
   "metadata": {},
   "source": [
    "There are no missing values. "
   ]
  },
  {
   "cell_type": "code",
   "execution_count": 27,
   "id": "835966c8-b26e-4802-bffc-105ac89dc970",
   "metadata": {},
   "outputs": [],
   "source": [
    "# Check for mixed-type data\n",
    "for col in df_merged2.columns.tolist():\n",
    "  weird = (df_merged2[[col]].map(type) != df_merged2[[col]].iloc[0].apply(type)).any(axis = 1)\n",
    "  if len (df_merged2[weird]) > 0:\n",
    "    print (col)"
   ]
  },
  {
   "cell_type": "markdown",
   "id": "5ed72cb7-fb05-431d-ba47-59dd4b566932",
   "metadata": {},
   "source": [
    "There is no mixed-type data. "
   ]
  },
  {
   "cell_type": "code",
   "execution_count": 29,
   "id": "323ddb65-0f76-4da9-9f78-884df3cf59b7",
   "metadata": {},
   "outputs": [
    {
     "data": {
      "text/plain": [
       "indicator_id            object\n",
       "region_id                int64\n",
       "date            datetime64[ns]\n",
       "value                  float64\n",
       "region_type             object\n",
       "region                  object\n",
       "zip_code                 int64\n",
       "dtype: object"
      ]
     },
     "execution_count": 29,
     "metadata": {},
     "output_type": "execute_result"
    }
   ],
   "source": [
    "df_merged2.dtypes"
   ]
  },
  {
   "cell_type": "code",
   "execution_count": 30,
   "id": "e5577d37-ad2a-4495-8230-e54a08d70e0e",
   "metadata": {},
   "outputs": [],
   "source": [
    "# Group by 'date' and calculate the mean value for each date\n",
    "king_county_prices = df_merged2.groupby('date')['value'].mean().reset_index()"
   ]
  },
  {
   "cell_type": "code",
   "execution_count": 31,
   "id": "ba3c26c0-b499-4856-a014-4be0f76ae514",
   "metadata": {},
   "outputs": [
    {
     "data": {
      "text/html": [
       "<div>\n",
       "<style scoped>\n",
       "    .dataframe tbody tr th:only-of-type {\n",
       "        vertical-align: middle;\n",
       "    }\n",
       "\n",
       "    .dataframe tbody tr th {\n",
       "        vertical-align: top;\n",
       "    }\n",
       "\n",
       "    .dataframe thead th {\n",
       "        text-align: right;\n",
       "    }\n",
       "</style>\n",
       "<table border=\"1\" class=\"dataframe\">\n",
       "  <thead>\n",
       "    <tr style=\"text-align: right;\">\n",
       "      <th></th>\n",
       "      <th>date</th>\n",
       "      <th>value</th>\n",
       "    </tr>\n",
       "  </thead>\n",
       "  <tbody>\n",
       "    <tr>\n",
       "      <th>0</th>\n",
       "      <td>1996-01-31</td>\n",
       "      <td>194879.2375</td>\n",
       "    </tr>\n",
       "    <tr>\n",
       "      <th>1</th>\n",
       "      <td>1996-02-29</td>\n",
       "      <td>195006.4250</td>\n",
       "    </tr>\n",
       "    <tr>\n",
       "      <th>2</th>\n",
       "      <td>1996-03-31</td>\n",
       "      <td>195032.7625</td>\n",
       "    </tr>\n",
       "    <tr>\n",
       "      <th>3</th>\n",
       "      <td>1996-04-30</td>\n",
       "      <td>195043.1500</td>\n",
       "    </tr>\n",
       "    <tr>\n",
       "      <th>4</th>\n",
       "      <td>1996-05-31</td>\n",
       "      <td>195009.4625</td>\n",
       "    </tr>\n",
       "  </tbody>\n",
       "</table>\n",
       "</div>"
      ],
      "text/plain": [
       "        date        value\n",
       "0 1996-01-31  194879.2375\n",
       "1 1996-02-29  195006.4250\n",
       "2 1996-03-31  195032.7625\n",
       "3 1996-04-30  195043.1500\n",
       "4 1996-05-31  195009.4625"
      ]
     },
     "execution_count": 31,
     "metadata": {},
     "output_type": "execute_result"
    }
   ],
   "source": [
    "king_county_prices.head()"
   ]
  },
  {
   "cell_type": "code",
   "execution_count": 32,
   "id": "35ebb477-2f0a-4162-9fb3-269a3b5c4b0e",
   "metadata": {},
   "outputs": [
    {
     "data": {
      "text/html": [
       "<div>\n",
       "<style scoped>\n",
       "    .dataframe tbody tr th:only-of-type {\n",
       "        vertical-align: middle;\n",
       "    }\n",
       "\n",
       "    .dataframe tbody tr th {\n",
       "        vertical-align: top;\n",
       "    }\n",
       "\n",
       "    .dataframe thead th {\n",
       "        text-align: right;\n",
       "    }\n",
       "</style>\n",
       "<table border=\"1\" class=\"dataframe\">\n",
       "  <thead>\n",
       "    <tr style=\"text-align: right;\">\n",
       "      <th></th>\n",
       "      <th>date</th>\n",
       "      <th>value</th>\n",
       "    </tr>\n",
       "  </thead>\n",
       "  <tbody>\n",
       "    <tr>\n",
       "      <th>count</th>\n",
       "      <td>343</td>\n",
       "      <td>3.430000e+02</td>\n",
       "    </tr>\n",
       "    <tr>\n",
       "      <th>mean</th>\n",
       "      <td>2010-04-30 22:15:02.623906816</td>\n",
       "      <td>4.799890e+05</td>\n",
       "    </tr>\n",
       "    <tr>\n",
       "      <th>min</th>\n",
       "      <td>1996-01-31 00:00:00</td>\n",
       "      <td>1.948792e+05</td>\n",
       "    </tr>\n",
       "    <tr>\n",
       "      <th>25%</th>\n",
       "      <td>2003-03-15 12:00:00</td>\n",
       "      <td>3.237790e+05</td>\n",
       "    </tr>\n",
       "    <tr>\n",
       "      <th>50%</th>\n",
       "      <td>2010-04-30 00:00:00</td>\n",
       "      <td>4.197601e+05</td>\n",
       "    </tr>\n",
       "    <tr>\n",
       "      <th>75%</th>\n",
       "      <td>2017-06-15 00:00:00</td>\n",
       "      <td>6.022647e+05</td>\n",
       "    </tr>\n",
       "    <tr>\n",
       "      <th>max</th>\n",
       "      <td>2024-07-31 00:00:00</td>\n",
       "      <td>1.039218e+06</td>\n",
       "    </tr>\n",
       "    <tr>\n",
       "      <th>std</th>\n",
       "      <td>NaN</td>\n",
       "      <td>2.156446e+05</td>\n",
       "    </tr>\n",
       "  </tbody>\n",
       "</table>\n",
       "</div>"
      ],
      "text/plain": [
       "                                date         value\n",
       "count                            343  3.430000e+02\n",
       "mean   2010-04-30 22:15:02.623906816  4.799890e+05\n",
       "min              1996-01-31 00:00:00  1.948792e+05\n",
       "25%              2003-03-15 12:00:00  3.237790e+05\n",
       "50%              2010-04-30 00:00:00  4.197601e+05\n",
       "75%              2017-06-15 00:00:00  6.022647e+05\n",
       "max              2024-07-31 00:00:00  1.039218e+06\n",
       "std                              NaN  2.156446e+05"
      ]
     },
     "execution_count": 32,
     "metadata": {},
     "output_type": "execute_result"
    }
   ],
   "source": [
    "king_county_prices.describe()"
   ]
  },
  {
   "cell_type": "code",
   "execution_count": 33,
   "id": "7b81ef07-37c1-4d1a-b998-cd394dd2b07d",
   "metadata": {},
   "outputs": [
    {
     "data": {
      "text/html": [
       "<div>\n",
       "<style scoped>\n",
       "    .dataframe tbody tr th:only-of-type {\n",
       "        vertical-align: middle;\n",
       "    }\n",
       "\n",
       "    .dataframe tbody tr th {\n",
       "        vertical-align: top;\n",
       "    }\n",
       "\n",
       "    .dataframe thead th {\n",
       "        text-align: right;\n",
       "    }\n",
       "</style>\n",
       "<table border=\"1\" class=\"dataframe\">\n",
       "  <thead>\n",
       "    <tr style=\"text-align: right;\">\n",
       "      <th></th>\n",
       "      <th>value</th>\n",
       "    </tr>\n",
       "    <tr>\n",
       "      <th>datetime</th>\n",
       "      <th></th>\n",
       "    </tr>\n",
       "  </thead>\n",
       "  <tbody>\n",
       "    <tr>\n",
       "      <th>1996-01-31</th>\n",
       "      <td>194879.2375</td>\n",
       "    </tr>\n",
       "    <tr>\n",
       "      <th>1996-02-29</th>\n",
       "      <td>195006.4250</td>\n",
       "    </tr>\n",
       "    <tr>\n",
       "      <th>1996-03-31</th>\n",
       "      <td>195032.7625</td>\n",
       "    </tr>\n",
       "    <tr>\n",
       "      <th>1996-04-30</th>\n",
       "      <td>195043.1500</td>\n",
       "    </tr>\n",
       "    <tr>\n",
       "      <th>1996-05-31</th>\n",
       "      <td>195009.4625</td>\n",
       "    </tr>\n",
       "  </tbody>\n",
       "</table>\n",
       "</div>"
      ],
      "text/plain": [
       "                  value\n",
       "datetime               \n",
       "1996-01-31  194879.2375\n",
       "1996-02-29  195006.4250\n",
       "1996-03-31  195032.7625\n",
       "1996-04-30  195043.1500\n",
       "1996-05-31  195009.4625"
      ]
     },
     "execution_count": 33,
     "metadata": {},
     "output_type": "execute_result"
    }
   ],
   "source": [
    "# Set the \"Date\" column as the index\n",
    "\n",
    "from datetime import datetime\n",
    "\n",
    "king_county_prices['datetime'] = pd.to_datetime(king_county_prices['date']) # Create a datetime column from \"date\"\n",
    "king_county_prices = king_county_prices.set_index('datetime') # Set the datetime as the index of the dataframe\n",
    "king_county_prices.drop(['date'], axis=1, inplace=True) # Drop the \"date\" column\n",
    "king_county_prices.head()"
   ]
  },
  {
   "cell_type": "code",
   "execution_count": 34,
   "id": "64777f10-3356-4699-908a-7d0c800e7c45",
   "metadata": {},
   "outputs": [
    {
     "data": {
      "text/plain": [
       "[<matplotlib.lines.Line2D at 0x2032f49a510>]"
      ]
     },
     "execution_count": 34,
     "metadata": {},
     "output_type": "execute_result"
    },
    {
     "data": {
      "image/png": "[encoded data removed]",
      "text/plain": [
       "<Figure size 1500x500 with 1 Axes>"
      ]
     },
     "metadata": {},
     "output_type": "display_data"
    }
   ],
   "source": [
    "# Plot the data\n",
    "plt.figure(figsize=(15,5), dpi=100)\n",
    "plt.plot(king_county_prices)"
   ]
  },
  {
   "cell_type": "markdown",
   "id": "ed2fd218-ad93-404c-9720-865182088282",
   "metadata": {},
   "source": [
    "The imported dataset included various indicators and regions, such as zip codes, cities, states, and neighborhoods. I selected the indicator 'ZALL,' which represents the median house price for \"All Homes (SFR, Condo/Co-op).\" My analysis focuses on house price trends in King County, WA, so I filtered the data to include only the zip codes within King County, along with the selected indicator. Then, I grouped the data by date to calculate the average house price across King County over time."
   ]
  },
  {
   "cell_type": "markdown",
   "id": "65ce3f56-7f1d-4d92-834a-ecad593a709d",
   "metadata": {},
   "source": [
    "### 3. Time-series analysis: decomposition"
   ]
  },
  {
   "cell_type": "code",
   "execution_count": 37,
   "id": "86a3c727-2d8d-4d95-9263-0c88e415662a",
   "metadata": {},
   "outputs": [],
   "source": [
    "# Decompose the data's components\n",
    "decomposition = sm.tsa.seasonal_decompose(king_county_prices, model='additive')"
   ]
  },
  {
   "cell_type": "code",
   "execution_count": 38,
   "id": "f660a983-24df-4300-ad10-1424079c81ec",
   "metadata": {},
   "outputs": [],
   "source": [
    "from pylab import rcParams # This will define a fixed size for all special charts.\n",
    "\n",
    "rcParams['figure.figsize'] = 18, 7"
   ]
  },
  {
   "cell_type": "code",
   "execution_count": 39,
   "id": "ab46247d-cbcd-421e-9704-b5fd5139236b",
   "metadata": {},
   "outputs": [
    {
     "data": {
      "image/png": "[encoded data removed]",
      "text/plain": [
       "<Figure size 1800x700 with 4 Axes>"
      ]
     },
     "metadata": {},
     "output_type": "display_data"
    }
   ],
   "source": [
    "# Plot the separated components\n",
    "\n",
    "decomposition.plot()\n",
    "plt.show()"
   ]
  },
  {
   "cell_type": "markdown",
   "id": "715f9354-6d65-4742-bf49-d5e9cf7b2156",
   "metadata": {},
   "source": [
    "**Insights:**\n",
    "\n",
    "- The first chart is the **level**. This is just the data itself including all its components. \n",
    "\n",
    "- The second chart is the **trend**. There is a gradual increase over time. The trend line compared to the level are very similar.\n",
    "\n",
    "- The third chart is the **seasonality**. There is seasonality in this data.\n",
    "\n",
    "- The 4th chart is the **noise** or **\"residual'**. There isn't much unexplained noise except for the fluctuations between 2020-2024 likely influenced by the impact of COVID-19 on the real estate market. \n",
    "\n",
    "Given the presence of both an upward **trend** and **seasonality**, this data is considered non-stationary. We will conduct a statistical test to confirm this."
   ]
  },
  {
   "cell_type": "markdown",
   "id": "7549d736-1104-4ebf-9316-a6a81b933f8f",
   "metadata": {},
   "source": [
    "### 4. Testing for stationarity"
   ]
  },
  {
   "cell_type": "code",
   "execution_count": 42,
   "id": "b10e1855-1fa2-47a7-9797-cea8b9ffb3db",
   "metadata": {},
   "outputs": [
    {
     "name": "stdout",
     "output_type": "stream",
     "text": [
      "Dickey-Fuller Stationarity Test:\n",
      "Test Statistic                   0.445619\n",
      "p-value                          0.983123\n",
      "Number of Lags Used              5.000000\n",
      "Number of Observations Used    337.000000\n",
      "Critical Value (1%)             -3.449904\n",
      "Critical Value (5%)             -2.870155\n",
      "Critical Value (10%)            -2.571360\n",
      "dtype: float64\n"
     ]
    }
   ],
   "source": [
    "# Conduct a Dickey-Fuller test to check for stationarity\n",
    "\n",
    "from statsmodels.tsa.stattools import adfuller # Import the adfuller() function\n",
    "\n",
    "def dickey_fuller(timeseries): \n",
    "    print('Dickey-Fuller Stationarity Test:')\n",
    "    test = adfuller(timeseries, autolag='AIC')\n",
    "    result = pd.Series(test[0:4], index=['Test Statistic', 'p-value', 'Number of Lags Used', 'Number of Observations Used'])\n",
    "    for key, value in test[4].items():\n",
    "        result['Critical Value (%s)'%key] = value\n",
    "    print(result)\n",
    "\n",
    "# Apply the test on the time series\n",
    "dickey_fuller(king_county_prices['value'])"
   ]
  },
  {
   "cell_type": "markdown",
   "id": "4de2696f-ed78-42fa-a4fb-9f0b0dc7687a",
   "metadata": {},
   "source": [
    "Null hypothesis: the presence of a root unit.\n",
    "\n",
    "Alternative hypothesis: there is no root unit (root unit is any jump that can't be explained by variation)"
   ]
  },
  {
   "cell_type": "markdown",
   "id": "bdf22c1a-02ef-4861-8727-25f2023aff7f",
   "metadata": {},
   "source": [
    "The test statistic is greater than the critical values at the 1%, 5%, and 10% levels. Since the test statistic exceeds these critical values, we cannot reject the null hypothesis. This indicates that there is a unit root in the data, confirming that it is non-stationary."
   ]
  },
  {
   "cell_type": "markdown",
   "id": "b45572af-f28b-4ca3-9b59-071f0359ac99",
   "metadata": {},
   "source": [
    "### 5. Stationarizing the Zillow Real Estate Data"
   ]
  },
  {
   "cell_type": "code",
   "execution_count": 46,
   "id": "a86d1205-1c35-412c-916e-bfbf9646b046",
   "metadata": {},
   "outputs": [],
   "source": [
    "# Stationarize the data by using the differencing technique\n",
    "data_diff = king_county_prices - king_county_prices.shift(1)\n",
    "\n",
    "# Remove any mising values as a result of the differencing\n",
    "data_diff.dropna(inplace=True)"
   ]
  },
  {
   "cell_type": "code",
   "execution_count": 47,
   "id": "6ba0a6f8-40f8-481b-baf2-50ba5df179b3",
   "metadata": {},
   "outputs": [
    {
     "data": {
      "text/html": [
       "<div>\n",
       "<style scoped>\n",
       "    .dataframe tbody tr th:only-of-type {\n",
       "        vertical-align: middle;\n",
       "    }\n",
       "\n",
       "    .dataframe tbody tr th {\n",
       "        vertical-align: top;\n",
       "    }\n",
       "\n",
       "    .dataframe thead th {\n",
       "        text-align: right;\n",
       "    }\n",
       "</style>\n",
       "<table border=\"1\" class=\"dataframe\">\n",
       "  <thead>\n",
       "    <tr style=\"text-align: right;\">\n",
       "      <th></th>\n",
       "      <th>value</th>\n",
       "    </tr>\n",
       "    <tr>\n",
       "      <th>datetime</th>\n",
       "      <th></th>\n",
       "    </tr>\n",
       "  </thead>\n",
       "  <tbody>\n",
       "    <tr>\n",
       "      <th>1996-02-29</th>\n",
       "      <td>127.1875</td>\n",
       "    </tr>\n",
       "    <tr>\n",
       "      <th>1996-03-31</th>\n",
       "      <td>26.3375</td>\n",
       "    </tr>\n",
       "    <tr>\n",
       "      <th>1996-04-30</th>\n",
       "      <td>10.3875</td>\n",
       "    </tr>\n",
       "    <tr>\n",
       "      <th>1996-05-31</th>\n",
       "      <td>-33.6875</td>\n",
       "    </tr>\n",
       "    <tr>\n",
       "      <th>1996-06-30</th>\n",
       "      <td>575.5625</td>\n",
       "    </tr>\n",
       "  </tbody>\n",
       "</table>\n",
       "</div>"
      ],
      "text/plain": [
       "               value\n",
       "datetime            \n",
       "1996-02-29  127.1875\n",
       "1996-03-31   26.3375\n",
       "1996-04-30   10.3875\n",
       "1996-05-31  -33.6875\n",
       "1996-06-30  575.5625"
      ]
     },
     "execution_count": 47,
     "metadata": {},
     "output_type": "execute_result"
    }
   ],
   "source": [
    "data_diff.head()"
   ]
  },
  {
   "cell_type": "code",
   "execution_count": 48,
   "id": "dda96d49-1b22-4223-b451-6ce5f4ae0e74",
   "metadata": {},
   "outputs": [
    {
     "data": {
      "text/plain": [
       "Index(['value'], dtype='object')"
      ]
     },
     "execution_count": 48,
     "metadata": {},
     "output_type": "execute_result"
    }
   ],
   "source": [
    "data_diff.columns"
   ]
  },
  {
   "cell_type": "code",
   "execution_count": 49,
   "id": "28a1e85c-8133-49bf-8fe8-dd4181e6eb22",
   "metadata": {},
   "outputs": [
    {
     "data": {
      "text/plain": [
       "[<matplotlib.lines.Line2D at 0x2025b39a650>]"
      ]
     },
     "execution_count": 49,
     "metadata": {},
     "output_type": "execute_result"
    },
    {
     "data": {
      "image/png": "[encoded data removed]",
      "text/plain": [
       "<Figure size 1500x500 with 1 Axes>"
      ]
     },
     "metadata": {},
     "output_type": "display_data"
    }
   ],
   "source": [
    "# Plot the time series to see what the effect of the differencing\n",
    "plt.figure(figsize=(15,5), dpi = 100)\n",
    "plt.plot(data_diff)"
   ]
  },
  {
   "cell_type": "code",
   "execution_count": 50,
   "id": "62142f16-5830-4be1-87e0-4adb4f161779",
   "metadata": {},
   "outputs": [
    {
     "name": "stdout",
     "output_type": "stream",
     "text": [
      "Dickey-Fuller Stationarity Test:\n",
      "Test Statistic                  -4.874072\n",
      "p-value                          0.000039\n",
      "Number of Lags Used              4.000000\n",
      "Number of Observations Used    337.000000\n",
      "Critical Value (1%)             -3.449904\n",
      "Critical Value (5%)             -2.870155\n",
      "Critical Value (10%)            -2.571360\n",
      "dtype: float64\n"
     ]
    }
   ],
   "source": [
    "# Recheck for stationarity by running another Dickey_Fuller test\n",
    "dickey_fuller(data_diff['value'])"
   ]
  },
  {
   "cell_type": "markdown",
   "id": "a97b2222-ac1e-4799-8760-de35d985e7c2",
   "metadata": {},
   "source": [
    "The test statistic is smaller than the critical value (10%) and a satisfactory p-value of <0.05, indicating there is no root unit and the series is stationary. "
   ]
  },
  {
   "cell_type": "code",
   "execution_count": 52,
   "id": "6a2f9675-f157-45ee-99c5-52a4fd4d41ae",
   "metadata": {},
   "outputs": [
    {
     "data": {
      "image/png": "[encoded data removed]",
      "text/plain": [
       "<Figure size 1800x700 with 1 Axes>"
      ]
     },
     "metadata": {},
     "output_type": "display_data"
    }
   ],
   "source": [
    "# Check the data's autocorrelations\n",
    "from statsmodels.graphics.tsaplots import plot_acf, plot_pacf \n",
    "\n",
    "plot_acf(data_diff)\n",
    "plt.show()"
   ]
  },
  {
   "cell_type": "code",
   "execution_count": null,
   "id": "d51e930a-e0f3-4f33-8d67-772ef26b72e0",
   "metadata": {},
   "outputs": [],
   "source": []
  }
 ],
 "metadata": {
  "kernelspec": {
   "display_name": "Python 3 (ipykernel)",
   "language": "python",
   "name": "python3"
  },
  "language_info": {
   "codemirror_mode": {
    "name": "ipython",
    "version": 3
   },
   "file_extension": ".py",
   "mimetype": "text/x-python",
   "name": "python",
   "nbconvert_exporter": "python",
   "pygments_lexer": "ipython3",
   "version": "3.12.7"
  }
 },
 "nbformat": 4,
 "nbformat_minor": 5
}
