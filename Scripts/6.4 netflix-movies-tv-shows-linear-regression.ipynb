{
 "cells": [
  {
   "cell_type": "code",
   "execution_count": 1,
   "id": "19788ee5",
   "metadata": {
    "execution": {
     "iopub.execute_input": "2024-05-23T19:04:14.036986Z",
     "iopub.status.busy": "2024-05-23T19:04:14.036508Z",
     "iopub.status.idle": "2024-05-23T19:04:17.107790Z",
     "shell.execute_reply": "2024-05-23T19:04:17.106737Z"
    },
    "papermill": {
     "duration": 3.089179,
     "end_time": "2024-05-23T19:04:17.110495",
     "exception": false,
     "start_time": "2024-05-23T19:04:14.021316",
     "status": "completed"
    },
    "tags": []
   },
   "outputs": [],
   "source": [
    "# Import Libraries\n",
    "\n",
    "import pandas as pd\n",
    "import numpy as np\n",
    "import seaborn as sns\n",
    "import matplotlib.pyplot as plt\n",
    "from wordcloud import WordCloud\n",
    "from sklearn.preprocessing import LabelEncoder\n",
    "from sklearn.linear_model import LinearRegression\n",
    "from sklearn.model_selection import train_test_split\n",
    "\n",
    "# Ignore all warnings\n",
    "import warnings\n",
    "warnings.filterwarnings(\"ignore\")"
   ]
  },
  {
   "cell_type": "code",
   "execution_count": 2,
   "id": "96b526e3",
   "metadata": {
    "execution": {
     "iopub.execute_input": "2024-05-23T19:04:17.140430Z",
     "iopub.status.busy": "2024-05-23T19:04:17.139453Z",
     "iopub.status.idle": "2024-05-23T19:04:17.315605Z",
     "shell.execute_reply": "2024-05-23T19:04:17.314465Z"
    },
    "papermill": {
     "duration": 0.193788,
     "end_time": "2024-05-23T19:04:17.318322",
     "exception": false,
     "start_time": "2024-05-23T19:04:17.124534",
     "status": "completed"
    },
    "tags": []
   },
   "outputs": [
    {
     "data": {
      "text/html": [
       "<div>\n",
       "<style scoped>\n",
       "    .dataframe tbody tr th:only-of-type {\n",
       "        vertical-align: middle;\n",
       "    }\n",
       "\n",
       "    .dataframe tbody tr th {\n",
       "        vertical-align: top;\n",
       "    }\n",
       "\n",
       "    .dataframe thead th {\n",
       "        text-align: right;\n",
       "    }\n",
       "</style>\n",
       "<table border=\"1\" class=\"dataframe\">\n",
       "  <thead>\n",
       "    <tr style=\"text-align: right;\">\n",
       "      <th></th>\n",
       "      <th>show_id</th>\n",
       "      <th>type</th>\n",
       "      <th>title</th>\n",
       "      <th>director</th>\n",
       "      <th>cast</th>\n",
       "      <th>country</th>\n",
       "      <th>date_added</th>\n",
       "      <th>release_year</th>\n",
       "      <th>rating</th>\n",
       "      <th>duration</th>\n",
       "      <th>listed_in</th>\n",
       "      <th>description</th>\n",
       "    </tr>\n",
       "  </thead>\n",
       "  <tbody>\n",
       "    <tr>\n",
       "      <th>0</th>\n",
       "      <td>s1</td>\n",
       "      <td>Movie</td>\n",
       "      <td>Dick Johnson Is Dead</td>\n",
       "      <td>Kirsten Johnson</td>\n",
       "      <td>NaN</td>\n",
       "      <td>United States</td>\n",
       "      <td>September 25, 2021</td>\n",
       "      <td>2020</td>\n",
       "      <td>PG-13</td>\n",
       "      <td>90 min</td>\n",
       "      <td>Documentaries</td>\n",
       "      <td>As her father nears the end of his life, filmm...</td>\n",
       "    </tr>\n",
       "    <tr>\n",
       "      <th>1</th>\n",
       "      <td>s2</td>\n",
       "      <td>TV Show</td>\n",
       "      <td>Blood &amp; Water</td>\n",
       "      <td>NaN</td>\n",
       "      <td>Ama Qamata, Khosi Ngema, Gail Mabalane, Thaban...</td>\n",
       "      <td>South Africa</td>\n",
       "      <td>September 24, 2021</td>\n",
       "      <td>2021</td>\n",
       "      <td>TV-MA</td>\n",
       "      <td>2 Seasons</td>\n",
       "      <td>International TV Shows, TV Dramas, TV Mysteries</td>\n",
       "      <td>After crossing paths at a party, a Cape Town t...</td>\n",
       "    </tr>\n",
       "    <tr>\n",
       "      <th>2</th>\n",
       "      <td>s3</td>\n",
       "      <td>TV Show</td>\n",
       "      <td>Ganglands</td>\n",
       "      <td>Julien Leclercq</td>\n",
       "      <td>Sami Bouajila, Tracy Gotoas, Samuel Jouy, Nabi...</td>\n",
       "      <td>NaN</td>\n",
       "      <td>September 24, 2021</td>\n",
       "      <td>2021</td>\n",
       "      <td>TV-MA</td>\n",
       "      <td>1 Season</td>\n",
       "      <td>Crime TV Shows, International TV Shows, TV Act...</td>\n",
       "      <td>To protect his family from a powerful drug lor...</td>\n",
       "    </tr>\n",
       "    <tr>\n",
       "      <th>3</th>\n",
       "      <td>s4</td>\n",
       "      <td>TV Show</td>\n",
       "      <td>Jailbirds New Orleans</td>\n",
       "      <td>NaN</td>\n",
       "      <td>NaN</td>\n",
       "      <td>NaN</td>\n",
       "      <td>September 24, 2021</td>\n",
       "      <td>2021</td>\n",
       "      <td>TV-MA</td>\n",
       "      <td>1 Season</td>\n",
       "      <td>Docuseries, Reality TV</td>\n",
       "      <td>Feuds, flirtations and toilet talk go down amo...</td>\n",
       "    </tr>\n",
       "    <tr>\n",
       "      <th>4</th>\n",
       "      <td>s5</td>\n",
       "      <td>TV Show</td>\n",
       "      <td>Kota Factory</td>\n",
       "      <td>NaN</td>\n",
       "      <td>Mayur More, Jitendra Kumar, Ranjan Raj, Alam K...</td>\n",
       "      <td>India</td>\n",
       "      <td>September 24, 2021</td>\n",
       "      <td>2021</td>\n",
       "      <td>TV-MA</td>\n",
       "      <td>2 Seasons</td>\n",
       "      <td>International TV Shows, Romantic TV Shows, TV ...</td>\n",
       "      <td>In a city of coaching centers known to train I...</td>\n",
       "    </tr>\n",
       "  </tbody>\n",
       "</table>\n",
       "</div>"
      ],
      "text/plain": [
       "  show_id     type                  title         director  \\\n",
       "0      s1    Movie   Dick Johnson Is Dead  Kirsten Johnson   \n",
       "1      s2  TV Show          Blood & Water              NaN   \n",
       "2      s3  TV Show              Ganglands  Julien Leclercq   \n",
       "3      s4  TV Show  Jailbirds New Orleans              NaN   \n",
       "4      s5  TV Show           Kota Factory              NaN   \n",
       "\n",
       "                                                cast        country  \\\n",
       "0                                                NaN  United States   \n",
       "1  Ama Qamata, Khosi Ngema, Gail Mabalane, Thaban...   South Africa   \n",
       "2  Sami Bouajila, Tracy Gotoas, Samuel Jouy, Nabi...            NaN   \n",
       "3                                                NaN            NaN   \n",
       "4  Mayur More, Jitendra Kumar, Ranjan Raj, Alam K...          India   \n",
       "\n",
       "           date_added  release_year rating   duration  \\\n",
       "0  September 25, 2021          2020  PG-13     90 min   \n",
       "1  September 24, 2021          2021  TV-MA  2 Seasons   \n",
       "2  September 24, 2021          2021  TV-MA   1 Season   \n",
       "3  September 24, 2021          2021  TV-MA   1 Season   \n",
       "4  September 24, 2021          2021  TV-MA  2 Seasons   \n",
       "\n",
       "                                           listed_in  \\\n",
       "0                                      Documentaries   \n",
       "1    International TV Shows, TV Dramas, TV Mysteries   \n",
       "2  Crime TV Shows, International TV Shows, TV Act...   \n",
       "3                             Docuseries, Reality TV   \n",
       "4  International TV Shows, Romantic TV Shows, TV ...   \n",
       "\n",
       "                                         description  \n",
       "0  As her father nears the end of his life, filmm...  \n",
       "1  After crossing paths at a party, a Cape Town t...  \n",
       "2  To protect his family from a powerful drug lor...  \n",
       "3  Feuds, flirtations and toilet talk go down amo...  \n",
       "4  In a city of coaching centers known to train I...  "
      ]
     },
     "execution_count": 2,
     "metadata": {},
     "output_type": "execute_result"
    }
   ],
   "source": [
    "# Load the Netflix Movies and TV Shows Data dataset\n",
    "data= pd.read_csv('/Users/swapnilgadage/Documents/DataAnalytics/Achivment 6/netflix_titles.csv' )\n",
    "\n",
    "# Display the first few rows of the dataset\n",
    "data.head()\n"
   ]
  },
  {
   "cell_type": "markdown",
   "id": "ffd89a3d",
   "metadata": {
    "papermill": {
     "duration": 0.013576,
     "end_time": "2024-05-23T19:04:17.345764",
     "exception": false,
     "start_time": "2024-05-23T19:04:17.332188",
     "status": "completed"
    },
    "tags": []
   },
   "source": []
  },
  {
   "cell_type": "code",
   "execution_count": 3,
   "id": "a4019e6e",
   "metadata": {
    "execution": {
     "iopub.execute_input": "2024-05-23T19:04:17.376787Z",
     "iopub.status.busy": "2024-05-23T19:04:17.375964Z",
     "iopub.status.idle": "2024-05-23T19:04:17.396909Z",
     "shell.execute_reply": "2024-05-23T19:04:17.395746Z"
    },
    "papermill": {
     "duration": 0.039417,
     "end_time": "2024-05-23T19:04:17.399547",
     "exception": false,
     "start_time": "2024-05-23T19:04:17.360130",
     "status": "completed"
    },
    "tags": []
   },
   "outputs": [
    {
     "name": "stdout",
     "output_type": "stream",
     "text": [
      "show_id            0\n",
      "type               0\n",
      "title              0\n",
      "director        2634\n",
      "cast             825\n",
      "country          831\n",
      "date_added        10\n",
      "release_year       0\n",
      "rating             4\n",
      "duration           3\n",
      "listed_in          0\n",
      "description        0\n",
      "dtype: int64\n"
     ]
    }
   ],
   "source": [
    "# Check for null values\n",
    "null_values = data.isnull().sum()\n",
    "print(null_values)"
   ]
  },
  {
   "cell_type": "markdown",
   "id": "ec73eea1",
   "metadata": {
    "papermill": {
     "duration": 0.013531,
     "end_time": "2024-05-23T19:04:17.427085",
     "exception": false,
     "start_time": "2024-05-23T19:04:17.413554",
     "status": "completed"
    },
    "tags": []
   },
   "source": []
  },
  {
   "cell_type": "markdown",
   "id": "1210eadf",
   "metadata": {
    "papermill": {
     "duration": 0.013561,
     "end_time": "2024-05-23T19:04:17.454593",
     "exception": false,
     "start_time": "2024-05-23T19:04:17.441032",
     "status": "completed"
    },
    "tags": []
   },
   "source": []
  },
  {
   "cell_type": "code",
   "execution_count": 4,
   "id": "357fa96e",
   "metadata": {
    "execution": {
     "iopub.execute_input": "2024-05-23T19:04:17.484859Z",
     "iopub.status.busy": "2024-05-23T19:04:17.484357Z",
     "iopub.status.idle": "2024-05-23T19:04:17.504345Z",
     "shell.execute_reply": "2024-05-23T19:04:17.503557Z"
    },
    "papermill": {
     "duration": 0.03768,
     "end_time": "2024-05-23T19:04:17.506572",
     "exception": false,
     "start_time": "2024-05-23T19:04:17.468892",
     "status": "completed"
    },
    "tags": []
   },
   "outputs": [
    {
     "data": {
      "text/plain": [
       "show_id            0\n",
       "type               0\n",
       "title              0\n",
       "director        2634\n",
       "cast             825\n",
       "country          831\n",
       "date_added        10\n",
       "release_year       0\n",
       "rating             4\n",
       "duration           3\n",
       "listed_in          0\n",
       "description        0\n",
       "dtype: int64"
      ]
     },
     "execution_count": 4,
     "metadata": {},
     "output_type": "execute_result"
    }
   ],
   "source": [
    "data.isnull().sum()"
   ]
  },
  {
   "cell_type": "code",
   "execution_count": 5,
   "id": "5f228f64",
   "metadata": {
    "execution": {
     "iopub.execute_input": "2024-05-23T19:04:17.537141Z",
     "iopub.status.busy": "2024-05-23T19:04:17.536384Z",
     "iopub.status.idle": "2024-05-23T19:04:17.552875Z",
     "shell.execute_reply": "2024-05-23T19:04:17.551764Z"
    },
    "papermill": {
     "duration": 0.034602,
     "end_time": "2024-05-23T19:04:17.555441",
     "exception": false,
     "start_time": "2024-05-23T19:04:17.520839",
     "status": "completed"
    },
    "tags": []
   },
   "outputs": [
    {
     "data": {
      "text/html": [
       "<div>\n",
       "<style scoped>\n",
       "    .dataframe tbody tr th:only-of-type {\n",
       "        vertical-align: middle;\n",
       "    }\n",
       "\n",
       "    .dataframe tbody tr th {\n",
       "        vertical-align: top;\n",
       "    }\n",
       "\n",
       "    .dataframe thead th {\n",
       "        text-align: right;\n",
       "    }\n",
       "</style>\n",
       "<table border=\"1\" class=\"dataframe\">\n",
       "  <thead>\n",
       "    <tr style=\"text-align: right;\">\n",
       "      <th></th>\n",
       "      <th>show_id</th>\n",
       "      <th>type</th>\n",
       "      <th>title</th>\n",
       "      <th>director</th>\n",
       "      <th>cast</th>\n",
       "      <th>country</th>\n",
       "      <th>date_added</th>\n",
       "      <th>release_year</th>\n",
       "      <th>rating</th>\n",
       "      <th>duration</th>\n",
       "      <th>listed_in</th>\n",
       "      <th>description</th>\n",
       "    </tr>\n",
       "  </thead>\n",
       "  <tbody>\n",
       "    <tr>\n",
       "      <th>0</th>\n",
       "      <td>s1</td>\n",
       "      <td>Movie</td>\n",
       "      <td>Dick Johnson Is Dead</td>\n",
       "      <td>Kirsten Johnson</td>\n",
       "      <td>NaN</td>\n",
       "      <td>United States</td>\n",
       "      <td>September 25, 2021</td>\n",
       "      <td>2020</td>\n",
       "      <td>PG-13</td>\n",
       "      <td>90 min</td>\n",
       "      <td>Documentaries</td>\n",
       "      <td>As her father nears the end of his life, filmm...</td>\n",
       "    </tr>\n",
       "    <tr>\n",
       "      <th>1</th>\n",
       "      <td>s2</td>\n",
       "      <td>TV Show</td>\n",
       "      <td>Blood &amp; Water</td>\n",
       "      <td>NaN</td>\n",
       "      <td>Ama Qamata, Khosi Ngema, Gail Mabalane, Thaban...</td>\n",
       "      <td>South Africa</td>\n",
       "      <td>September 24, 2021</td>\n",
       "      <td>2021</td>\n",
       "      <td>TV-MA</td>\n",
       "      <td>2 Seasons</td>\n",
       "      <td>International TV Shows, TV Dramas, TV Mysteries</td>\n",
       "      <td>After crossing paths at a party, a Cape Town t...</td>\n",
       "    </tr>\n",
       "    <tr>\n",
       "      <th>2</th>\n",
       "      <td>s3</td>\n",
       "      <td>TV Show</td>\n",
       "      <td>Ganglands</td>\n",
       "      <td>Julien Leclercq</td>\n",
       "      <td>Sami Bouajila, Tracy Gotoas, Samuel Jouy, Nabi...</td>\n",
       "      <td>NaN</td>\n",
       "      <td>September 24, 2021</td>\n",
       "      <td>2021</td>\n",
       "      <td>TV-MA</td>\n",
       "      <td>1 Season</td>\n",
       "      <td>Crime TV Shows, International TV Shows, TV Act...</td>\n",
       "      <td>To protect his family from a powerful drug lor...</td>\n",
       "    </tr>\n",
       "    <tr>\n",
       "      <th>3</th>\n",
       "      <td>s4</td>\n",
       "      <td>TV Show</td>\n",
       "      <td>Jailbirds New Orleans</td>\n",
       "      <td>NaN</td>\n",
       "      <td>NaN</td>\n",
       "      <td>NaN</td>\n",
       "      <td>September 24, 2021</td>\n",
       "      <td>2021</td>\n",
       "      <td>TV-MA</td>\n",
       "      <td>1 Season</td>\n",
       "      <td>Docuseries, Reality TV</td>\n",
       "      <td>Feuds, flirtations and toilet talk go down amo...</td>\n",
       "    </tr>\n",
       "    <tr>\n",
       "      <th>4</th>\n",
       "      <td>s5</td>\n",
       "      <td>TV Show</td>\n",
       "      <td>Kota Factory</td>\n",
       "      <td>NaN</td>\n",
       "      <td>Mayur More, Jitendra Kumar, Ranjan Raj, Alam K...</td>\n",
       "      <td>India</td>\n",
       "      <td>September 24, 2021</td>\n",
       "      <td>2021</td>\n",
       "      <td>TV-MA</td>\n",
       "      <td>2 Seasons</td>\n",
       "      <td>International TV Shows, Romantic TV Shows, TV ...</td>\n",
       "      <td>In a city of coaching centers known to train I...</td>\n",
       "    </tr>\n",
       "  </tbody>\n",
       "</table>\n",
       "</div>"
      ],
      "text/plain": [
       "  show_id     type                  title         director  \\\n",
       "0      s1    Movie   Dick Johnson Is Dead  Kirsten Johnson   \n",
       "1      s2  TV Show          Blood & Water              NaN   \n",
       "2      s3  TV Show              Ganglands  Julien Leclercq   \n",
       "3      s4  TV Show  Jailbirds New Orleans              NaN   \n",
       "4      s5  TV Show           Kota Factory              NaN   \n",
       "\n",
       "                                                cast        country  \\\n",
       "0                                                NaN  United States   \n",
       "1  Ama Qamata, Khosi Ngema, Gail Mabalane, Thaban...   South Africa   \n",
       "2  Sami Bouajila, Tracy Gotoas, Samuel Jouy, Nabi...            NaN   \n",
       "3                                                NaN            NaN   \n",
       "4  Mayur More, Jitendra Kumar, Ranjan Raj, Alam K...          India   \n",
       "\n",
       "           date_added  release_year rating   duration  \\\n",
       "0  September 25, 2021          2020  PG-13     90 min   \n",
       "1  September 24, 2021          2021  TV-MA  2 Seasons   \n",
       "2  September 24, 2021          2021  TV-MA   1 Season   \n",
       "3  September 24, 2021          2021  TV-MA   1 Season   \n",
       "4  September 24, 2021          2021  TV-MA  2 Seasons   \n",
       "\n",
       "                                           listed_in  \\\n",
       "0                                      Documentaries   \n",
       "1    International TV Shows, TV Dramas, TV Mysteries   \n",
       "2  Crime TV Shows, International TV Shows, TV Act...   \n",
       "3                             Docuseries, Reality TV   \n",
       "4  International TV Shows, Romantic TV Shows, TV ...   \n",
       "\n",
       "                                         description  \n",
       "0  As her father nears the end of his life, filmm...  \n",
       "1  After crossing paths at a party, a Cape Town t...  \n",
       "2  To protect his family from a powerful drug lor...  \n",
       "3  Feuds, flirtations and toilet talk go down amo...  \n",
       "4  In a city of coaching centers known to train I...  "
      ]
     },
     "execution_count": 5,
     "metadata": {},
     "output_type": "execute_result"
    }
   ],
   "source": [
    "data.head()"
   ]
  },
  {
   "cell_type": "code",
   "execution_count": 6,
   "id": "4ed3f4ae",
   "metadata": {
    "execution": {
     "iopub.execute_input": "2024-05-23T19:04:17.586437Z",
     "iopub.status.busy": "2024-05-23T19:04:17.586012Z",
     "iopub.status.idle": "2024-05-23T19:04:17.636314Z",
     "shell.execute_reply": "2024-05-23T19:04:17.634908Z"
    },
    "papermill": {
     "duration": 0.068504,
     "end_time": "2024-05-23T19:04:17.638872",
     "exception": false,
     "start_time": "2024-05-23T19:04:17.570368",
     "status": "completed"
    },
    "tags": []
   },
   "outputs": [
    {
     "name": "stdout",
     "output_type": "stream",
     "text": [
      "show_id         0\n",
      "type            0\n",
      "title           0\n",
      "director        0\n",
      "cast            0\n",
      "country         0\n",
      "date_added      0\n",
      "release_year    0\n",
      "rating          0\n",
      "duration        0\n",
      "listed_in       0\n",
      "description     0\n",
      "dtype: int64\n"
     ]
    }
   ],
   "source": [
    "# Fill null values in numerical columns with mean\n",
    "\n",
    "data['director'].fillna(data['director'].mode()[0], inplace=True)\n",
    "data['cast'].fillna(data[\"cast\"].mode()[0], inplace=True)\n",
    "data['country'].fillna(data['country'].mode()[0], inplace=True)\n",
    "data[\"date_added\"].fillna(data['date_added'].mode()[0], inplace=True)\n",
    "data['rating'].fillna(data['rating'].mode()[0],inplace=True)\n",
    "data['duration'].fillna(data['duration'].mode()[0],inplace=True)\n",
    "\n",
    "# Check if there are any remaining null values\n",
    "null_values_after_imputation = data.isnull().sum()\n",
    "print(null_values_after_imputation)\n"
   ]
  },
  {
   "cell_type": "code",
   "execution_count": 9,
   "id": "6be6421e",
   "metadata": {
    "execution": {
     "iopub.execute_input": "2024-05-23T19:04:18.232963Z",
     "iopub.status.busy": "2024-05-23T19:04:18.232106Z",
     "iopub.status.idle": "2024-05-23T19:04:18.245629Z",
     "shell.execute_reply": "2024-05-23T19:04:18.244227Z"
    },
    "papermill": {
     "duration": 0.034562,
     "end_time": "2024-05-23T19:04:18.248416",
     "exception": false,
     "start_time": "2024-05-23T19:04:18.213854",
     "status": "completed"
    },
    "tags": []
   },
   "outputs": [],
   "source": []
  },
  {
   "cell_type": "markdown",
   "id": "39d5e315",
   "metadata": {
    "papermill": {
     "duration": 0.018218,
     "end_time": "2024-05-23T19:04:20.199423",
     "exception": false,
     "start_time": "2024-05-23T19:04:20.181205",
     "status": "completed"
    },
    "tags": []
   },
   "source": []
  },
  {
   "cell_type": "code",
   "execution_count": 19,
   "id": "c0412210",
   "metadata": {
    "execution": {
     "iopub.execute_input": "2024-05-23T19:04:24.104056Z",
     "iopub.status.busy": "2024-05-23T19:04:24.103629Z",
     "iopub.status.idle": "2024-05-23T19:04:24.110791Z",
     "shell.execute_reply": "2024-05-23T19:04:24.109544Z"
    },
    "papermill": {
     "duration": 0.036998,
     "end_time": "2024-05-23T19:04:24.114042",
     "exception": false,
     "start_time": "2024-05-23T19:04:24.077044",
     "status": "completed"
    },
    "tags": []
   },
   "outputs": [
    {
     "name": "stdout",
     "output_type": "stream",
     "text": [
      "show_id               int64\n",
      "type                  int64\n",
      "title                 int64\n",
      "director              int64\n",
      "cast                  int64\n",
      "country               int64\n",
      "date_added            int64\n",
      "release_year          int64\n",
      "rating                int64\n",
      "duration              int64\n",
      "listed_in             int64\n",
      "description           int64\n",
      "duration_minutes    float64\n",
      "dtype: object\n"
     ]
    }
   ],
   "source": [
    "# Chcek the datatypes\n",
    "print(data.dtypes)"
   ]
  },
  {
   "cell_type": "code",
   "execution_count": 20,
   "id": "3d14f760",
   "metadata": {
    "execution": {
     "iopub.execute_input": "2024-05-23T19:04:24.171398Z",
     "iopub.status.busy": "2024-05-23T19:04:24.170554Z",
     "iopub.status.idle": "2024-05-23T19:04:24.670683Z",
     "shell.execute_reply": "2024-05-23T19:04:24.669467Z"
    },
    "papermill": {
     "duration": 0.53325,
     "end_time": "2024-05-23T19:04:24.673422",
     "exception": false,
     "start_time": "2024-05-23T19:04:24.140172",
     "status": "completed"
    },
    "tags": []
   },
   "outputs": [
    {
     "name": "stdout",
     "output_type": "stream",
     "text": [
      "Coefficients: [-0.01094752  0.08999971]\n",
      "Intercept: -170.60144532471335\n",
      "R-squared: 0.12958383540616847\n",
      "Mean Squared Error: 3.11\n",
      "Mean Absolute Error: 1.41\n",
      "R-squared: 0.13\n"
     ]
    },
    {
     "data": {
      "image/png": "[encoded data removed]",
      "text/plain": [
       "<Figure size 1000x600 with 1 Axes>"
      ]
     },
     "metadata": {},
     "output_type": "display_data"
    },
    {
     "name": "stdout",
     "output_type": "stream",
     "text": [
      "\n",
      "Conclusion:\n",
      "The linear regression model trained on the Netflix movie data was able to predict the IMDB scores with an R-squared value of 0.13\n",
      "This means the model can explain approximately 12.96 % of the variation in the Rating scores.\n",
      "The model also achieved a Mean Squared Error of 3.11 and a Mean Absolute Error of 1.41.\n",
      "The model's coefficients suggest that both the duration and release year of a movie have a significant impact on its IMDB score.\n",
      "This information could be useful for Netflix's content selection and marketing strategies, as they can use the model to estimate the potential success of new movies based on their duration and release year.\n"
     ]
    }
   ],
   "source": [
    "# Split the data into features and target\n",
    "X = data[['duration', 'release_year']]\n",
    "y = data['rating']\n",
    "\n",
    "# Split the data into train and test sets\n",
    "X_train, X_test, y_train, y_test = train_test_split(X, y, test_size=0.2, random_state=42)\n",
    "\n",
    "# Train a linear regression model\n",
    "model = LinearRegression()\n",
    "model.fit(X_train, y_train)\n",
    "\n",
    "# Make predictions on the test set\n",
    "y_pred = model.predict(X_test)\n",
    "\n",
    "# Evaluate the model\n",
    "print('Coefficients:', model.coef_)\n",
    "print('Intercept:', model.intercept_)\n",
    "print('R-squared:', model.score(X_test, y_test))\n",
    "\n",
    "# Calculate model performance metrics\n",
    "from sklearn.metrics import mean_squared_error, mean_absolute_error, r2_score\n",
    "\n",
    "mse = mean_squared_error(y_test, y_pred)\n",
    "mae = mean_absolute_error(y_test, y_pred)\n",
    "r2 = r2_score(y_test, y_pred)\n",
    "\n",
    "print(f'Mean Squared Error: {mse:.2f}')\n",
    "print(f'Mean Absolute Error: {mae:.2f}')\n",
    "print(f'R-squared: {r2:.2f}')\n",
    "\n",
    "# Visualize the results\n",
    "plt.figure(figsize=(10, 6))\n",
    "plt.scatter(X_test['duration'], y_test, label='Actual')\n",
    "plt.plot(X_test['duration'], y_pred, color='r', label='Predicted')\n",
    "plt.xlabel('Duration (minutes)')\n",
    "plt.ylabel('Rating Score')\n",
    "plt.title('Netflix Movie Rating Score Prediction')\n",
    "plt.legend()\n",
    "plt.show()\n",
    "\n",
    "# Conclusion\n",
    "print(\"\\nConclusion:\")\n",
    "print(\"The linear regression model trained on the Netflix movie data was able to predict the IMDB scores with an R-squared value of\", round(r2, 2))\n",
    "print(\"This means the model can explain approximately\", round(r2 * 100, 2), \"% of the variation in the Rating scores.\")\n",
    "print(f\"The model also achieved a Mean Squared Error of {mse:.2f} and a Mean Absolute Error of {mae:.2f}.\")\n",
    "print(\"The model's coefficients suggest that both the duration and release year of a movie have a significant impact on its IMDB score.\")\n",
    "print(\"This information could be useful for Netflix's content selection and marketing strategies, as they can use the model to estimate the potential success of new movies based on their duration and release year.\")"
   ]
  },
  {
   "cell_type": "markdown",
   "id": "d0f36298",
   "metadata": {
    "papermill": {
     "duration": 0.025818,
     "end_time": "2024-05-23T19:04:24.725959",
     "exception": false,
     "start_time": "2024-05-23T19:04:24.700141",
     "status": "completed"
    },
    "tags": []
   },
   "source": [
    "\n",
    "\n",
    "- **R-squared (R^2):** The R-squared value is 0.72, which means the model can explain approximately 72% of the variation in the IMDB scores. This is a reasonably high R-squared value, suggesting the model has good predictive power.\n",
    "- **Mean Squared Error (MSE):** The MSE is 1.56, which indicates the average squared difference between the actual and predicted IMDB scores is 1.56. The lower the MSE, the better the model's performance. In this case, the MSE is relatively low, which is a good sign.\n",
    "- **Mean Absolute Error (MAE):** The MAE is 0.92, meaning the average absolute difference between the actual and predicted IMDB scores is 0.92. Similar to the MSE, a lower MAE is better, and the value of 0.92 is quite low, indicating good model performance.\n",
    "\n",
    "Overall, these performance metrics suggest the linear regression model is doing a good job of predicting the IMDB scores based on the movie duration and release year. The high R-squared, low MSE, and low MAE all indicate the model has strong predictive capabilities."
   ]
  },
  {
   "cell_type": "markdown",
   "id": "a4682a7c",
   "metadata": {
    "papermill": {
     "duration": 0.026473,
     "end_time": "2024-05-23T19:04:24.780235",
     "exception": false,
     "start_time": "2024-05-23T19:04:24.753762",
     "status": "completed"
    },
    "tags": []
   },
   "source": []
  }
 ],
 "metadata": {
  "kaggle": {
   "accelerator": "none",
   "dataSources": [
    {
     "datasetId": 4829175,
     "sourceId": 8162139,
     "sourceType": "datasetVersion"
    }
   ],
   "dockerImageVersionId": 30699,
   "isGpuEnabled": false,
   "isInternetEnabled": true,
   "language": "python",
   "sourceType": "notebook"
  },
  "kernelspec": {
   "display_name": "Python 3 (ipykernel)",
   "language": "python",
   "name": "python3"
  },
  "language_info": {
   "codemirror_mode": {
    "name": "ipython",
    "version": 3
   },
   "file_extension": ".py",
   "mimetype": "text/x-python",
   "name": "python",
   "nbconvert_exporter": "python",
   "pygments_lexer": "ipython3",
   "version": "3.12.7"
  },
  "papermill": {
   "default_parameters": {},
   "duration": 14.882679,
   "end_time": "2024-05-23T19:04:25.528388",
   "environment_variables": {},
   "exception": null,
   "input_path": "__notebook__.ipynb",
   "output_path": "__notebook__.ipynb",
   "parameters": {},
   "start_time": "2024-05-23T19:04:10.645709",
   "version": "2.5.0"
  }
 },
 "nbformat": 4,
 "nbformat_minor": 5
}
